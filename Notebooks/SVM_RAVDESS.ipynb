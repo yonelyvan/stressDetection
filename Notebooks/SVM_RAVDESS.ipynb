{
 "cells": [
  {
   "cell_type": "code",
   "execution_count": 1,
   "metadata": {},
   "outputs": [],
   "source": [
    "import keras\n",
    "from keras.datasets import mnist\n",
    "from keras.utils import to_categorical\n",
    "from tensorflow.keras import Sequential\n",
    "from tensorflow.keras.layers import Conv2D, Flatten, Dense\n",
    "import numpy as np\n",
    "from sklearn.model_selection import train_test_split\n",
    "\n",
    "import librosa \n",
    "from librosa import feature\n",
    "import soundfile\n",
    "import os, glob, pickle\n",
    "import re #split strings\n",
    "\n",
    "from sklearn import preprocessing\n",
    "\n",
    "fn_list_i = [\n",
    " feature.chroma_stft,\n",
    " feature.spectral_centroid,\n",
    " feature.spectral_bandwidth,\n",
    " feature.spectral_rolloff\n",
    "]\n",
    " \n",
    "fn_list_ii = [\n",
    " feature.zero_crossing_rate\n",
    "]\n",
    "#feature.rmse,\n",
    "\n",
    "emotions={\n",
    "    0:'neutral',\n",
    "    1:'calm',\n",
    "    2:'happy',\n",
    "    3:'sad',\n",
    "    4:'angry',\n",
    "    5:'fearful',\n",
    "    6:'disgust',\n",
    "    7:'surprised'\n",
    "}\n",
    "\n",
    "# Not stressed: happy(2), calm(1).\n",
    "# Stressed:     sad(3), fearful(5)\n",
    "stress_emotions = {\n",
    "    1:0,\n",
    "    2:0,\n",
    "    3:1,\n",
    "    5:1\n",
    "}\n",
    "selected_emotions = {1,2,3,5}\n",
    "\n",
    "\n",
    "num_classes = 2 #8"
   ]
  },
  {
   "cell_type": "code",
   "execution_count": 2,
   "metadata": {},
   "outputs": [],
   "source": [
    "#preprocesamiento de corpus\n",
    "def preprocessing_data(filename):\n",
    "    # 1) audio: mono \n",
    "    # 2) frecuencia de muestreo(SR): 16000Hz\n",
    "    data, sr = librosa.load(filename, sr=16000, mono=True)\n",
    "    #3) normalizacion\n",
    "    X_scale = preprocessing.normalize([data])[0]\n",
    "    #plot_data(normalizado, sr)\n",
    "    #TODO: otros: farming, windowing, Voice Activity Detector (VAD), noise reduction,\n",
    "    return [X_scale, sr]\n"
   ]
  },
  {
   "cell_type": "code",
   "execution_count": 3,
   "metadata": {},
   "outputs": [],
   "source": [
    "def TEO(signal):\n",
    "    out = []\n",
    "    for i in range(0, len(signal)):\n",
    "        if i == 0 or i == len(signal) - 1:\n",
    "            out.append(signal[i])\n",
    "        else:\n",
    "            out.append(pow(signal[i], 2) - (signal[i + 1] * signal[i - 1]))\n",
    "    return np.array(out)"
   ]
  },
  {
   "cell_type": "code",
   "execution_count": 4,
   "metadata": {},
   "outputs": [],
   "source": [
    "def get_feature_vector(X_file_data,sample_rate): \n",
    "    result = np.array([])\n",
    "  \n",
    "    stft = np.abs(librosa.stft(X_file_data))\n",
    "    \n",
    "    #mfcc\n",
    "    mfccs = np.mean(librosa.feature.mfcc(y=X_file_data, sr=sample_rate, n_mfcc=60).T, axis=0)\n",
    "    result = np.hstack((result, mfccs))#concatena ([1,2][3,4]) => [1,2,3,4]\n",
    "\n",
    "    mfccs_var = np.var(librosa.feature.mfcc(y=X_file_data, sr=sample_rate, n_mfcc=60).T, axis=0)\n",
    "    result = np.hstack((result, mfccs_var)) \n",
    "\n",
    "    mfccs_std = np.std(librosa.feature.mfcc(y=X_file_data, sr=sample_rate, n_mfcc=60).T, axis=0)\n",
    "    result = np.hstack((result, mfccs_std)) \n",
    "    \n",
    "    chroma = np.mean(librosa.feature.chroma_stft(S=stft, sr=sample_rate).T,axis=0)\n",
    "    result = np.hstack((result, chroma))\n",
    "    \n",
    "    mel = np.mean(librosa.feature.melspectrogram(X_file_data, sr=sample_rate).T,axis=0)\n",
    "    result = np.hstack((result, mel))\n",
    "    \n",
    "    contrast = np.mean(librosa.feature.spectral_contrast(S=stft, sr=sample_rate).T,axis=0)\n",
    "    result = np.hstack((result, contrast))\n",
    "    \n",
    "    tonnetz = np.mean(librosa.feature.tonnetz(y=librosa.effects.harmonic(X_file_data), sr=sample_rate).T,axis=0)\n",
    "    result = np.hstack((result, tonnetz))\n",
    "    \n",
    "\n",
    "    return result"
   ]
  },
  {
   "cell_type": "code",
   "execution_count": 5,
   "metadata": {},
   "outputs": [],
   "source": [
    "def load_data(test_size=0.2):\n",
    "    x,y=[],[]\n",
    "    for file in glob.glob(\"/media/yonel/730D-8298/DATASETS/RAVDESS/Actor_*/*.wav\"): #* PC\n",
    "        file_name = os.path.basename(file) #            03-01-01-01-01-01-01.wav\n",
    "        print('Progress:  %s' % (file_name), end='\\r')\n",
    "        file_name_no_type = file_name.split(\".\")[0] #   03-01-01-01-01-01-01\n",
    "        list_emotions = file_name_no_type.split(\"-\") #  ['03', '01', '01', '01', '01', '01', '01']\n",
    "        emotion = int(list_emotions[2])-1 #iniciar contador de emociones desde 0 a 7 (8emociones)\n",
    "        \n",
    "        if emotion in selected_emotions:\n",
    "            emotion = stress_emotions[emotion]\n",
    "           \n",
    "            signal, sample_rate = preprocessing_data(file)\n",
    "            feature = get_feature_vector(signal, sample_rate)\n",
    "            x.append(feature)\n",
    "            y.append(emotion)\n",
    "\n",
    "    return np.array(x), np.array(y)"
   ]
  },
  {
   "cell_type": "code",
   "execution_count": 6,
   "metadata": {},
   "outputs": [
    {
     "name": "stdout",
     "output_type": "stream",
     "text": [
      "Progress:  03-01-08-02-02-02-24.wav\n",
      "\n",
      "X_data: (768, 333) Y_data: (768,)\n"
     ]
    }
   ],
   "source": [
    "min_max_scaler = preprocessing.MinMaxScaler()\n",
    "X_raw,Y_raw = load_data()\n",
    "print(\"\\n\")\n",
    "print(\"X_data:\", X_raw.shape, \"Y_data:\",  Y_raw.shape)"
   ]
  },
  {
   "cell_type": "markdown",
   "metadata": {},
   "source": [
    "### Normalización de datos"
   ]
  },
  {
   "cell_type": "code",
   "execution_count": 78,
   "metadata": {
    "scrolled": true
   },
   "outputs": [
    {
     "name": "stdout",
     "output_type": "stream",
     "text": [
      "X_data: (768, 333) Y_data: (768,)\n"
     ]
    }
   ],
   "source": [
    "Y = Y_raw #to_categorical(Y_raw, num_classes)\n",
    "X = min_max_scaler.fit_transform(X_raw)\n",
    "print(\"X_data:\", X.shape, \"Y_data:\",  Y.shape)"
   ]
  },
  {
   "cell_type": "markdown",
   "metadata": {},
   "source": [
    "### Reducción de dimensionalidad con PCA"
   ]
  },
  {
   "cell_type": "code",
   "execution_count": 79,
   "metadata": {},
   "outputs": [
    {
     "name": "stdout",
     "output_type": "stream",
     "text": [
      "X_data: (768, 250) Y_data: (768,)\n"
     ]
    }
   ],
   "source": [
    "from sklearn.decomposition import PCA\n",
    "X =  PCA(n_components=250).fit_transform(X)\n",
    "print(\"X_data:\", X.shape, \"Y_data:\",  Y.shape)"
   ]
  },
  {
   "cell_type": "code",
   "execution_count": 80,
   "metadata": {},
   "outputs": [
    {
     "name": "stdout",
     "output_type": "stream",
     "text": [
      "Train: (537, 250) (537,) val & Test: (231, 250) (231,)\n"
     ]
    }
   ],
   "source": [
    "X_train, X_test, Y_train, Y_test = train_test_split(X,Y, test_size=0.3, random_state=10) \n",
    "print(\"Train:\", X_train.shape, Y_train.shape, \"val & Test:\", X_test.shape, Y_test.shape)"
   ]
  },
  {
   "cell_type": "code",
   "execution_count": 81,
   "metadata": {},
   "outputs": [
    {
     "data": {
      "text/plain": [
       "SVC()"
      ]
     },
     "execution_count": 81,
     "metadata": {},
     "output_type": "execute_result"
    }
   ],
   "source": [
    "#SVM lineal\n",
    "from sklearn.svm import SVC\n",
    "clf_SVC = SVC(kernel='rbf') #  gaussiano(RBF):\n",
    "\n",
    "clf_SVC.fit(X_train,Y_train)"
   ]
  },
  {
   "cell_type": "code",
   "execution_count": 82,
   "metadata": {},
   "outputs": [
    {
     "name": "stdout",
     "output_type": "stream",
     "text": [
      "Accuracy of linear SVC on training set: 0.93\n",
      "Accuracy of linear SVC on test set: 0.81\n"
     ]
    }
   ],
   "source": [
    "clf_SVC.fit(X_train,Y_train)\n",
    "print('Accuracy of linear SVC on training set: {:.2f}'.format(clf_SVC.score(X_train, Y_train)))\n",
    "print('Accuracy of linear SVC on test set: {:.2f}'.format(clf_SVC.score(X_test, Y_test)))"
   ]
  },
  {
   "cell_type": "markdown",
   "metadata": {},
   "source": [
    "### Tuning"
   ]
  },
  {
   "cell_type": "code",
   "execution_count": 83,
   "metadata": {},
   "outputs": [
    {
     "name": "stdout",
     "output_type": "stream",
     "text": [
      "the generated array of c values\n",
      "[1.00000000e+00 1.07252413e+00 1.15030800e+00 1.23373308e+00\n",
      " 1.32320850e+00 1.41917304e+00 1.52209732e+00 1.63248610e+00\n",
      " 1.75088073e+00 1.87786182e+00 2.01405211e+00 2.16011948e+00\n",
      " 2.31678026e+00 2.48480272e+00 2.66501086e+00 2.85828845e+00\n",
      " 3.06558332e+00 3.28791207e+00 3.52636502e+00 3.78211156e+00\n",
      " 4.05640590e+00 4.35059319e+00 4.66611616e+00 5.00452215e+00\n",
      " 5.36747075e+00 5.75674188e+00 6.17424455e+00 6.62202624e+00\n",
      " 7.10228290e+00 7.61736977e+00 8.16981285e+00 8.76232139e+00\n",
      " 9.39780109e+00 1.00793684e+01 1.08103658e+01 1.15943781e+01\n",
      " 1.24352503e+01 1.33371059e+01 1.43043679e+01 1.53417796e+01\n",
      " 1.64544288e+01 1.76477719e+01 1.89276611e+01 2.03003732e+01\n",
      " 2.17726400e+01 2.33516817e+01 2.50452420e+01 2.68616263e+01\n",
      " 2.88097423e+01 3.08991436e+01 3.31400770e+01 3.55435321e+01\n",
      " 3.81212958e+01 4.08860094e+01 4.38512315e+01 4.70315038e+01\n",
      " 5.04424225e+01 5.41007151e+01 5.80243221e+01 6.22324854e+01\n",
      " 6.67458420e+01 7.15865259e+01 7.67782761e+01 8.23465535e+01\n",
      " 8.83186653e+01 9.47238993e+01 1.01593667e+02 1.08961659e+02\n",
      " 1.16864008e+02 1.25339468e+02 1.34429604e+02 1.44178993e+02\n",
      " 1.54635449e+02 1.65850250e+02 1.77878394e+02 1.90778869e+02\n",
      " 2.04614940e+02 2.19454460e+02 2.35370203e+02 2.52440221e+02\n",
      " 2.70748227e+02 2.90384006e+02 3.11443852e+02 3.34031045e+02\n",
      " 3.58256355e+02 3.84238584e+02 4.12105151e+02 4.41992717e+02\n",
      " 4.74047853e+02 5.08427759e+02 5.45301038e+02 5.84848519e+02\n",
      " 6.27264147e+02 6.72755931e+02 7.21546967e+02 7.73876530e+02\n",
      " 8.30001249e+02 8.90196364e+02 9.54757077e+02 1.02400000e+03]\n"
     ]
    }
   ],
   "source": [
    "#tuning\n",
    "from sklearn.model_selection import GridSearchCV\n",
    "from sklearn.metrics import classification_report\n",
    "import numpy as np\n",
    "\n",
    "c_SVC = np.logspace(start = 0, stop = 10, num = 100, base = 2 , dtype = 'float64')\n",
    "print( 'the generated array of c values')\n",
    "print ( c_SVC )\n",
    "param_grid_S = {'C': c_SVC}"
   ]
  },
  {
   "cell_type": "code",
   "execution_count": 84,
   "metadata": {},
   "outputs": [
    {
     "name": "stdout",
     "output_type": "stream",
     "text": [
      "\n",
      " Array of means \n",
      "\n",
      "[0.75769231 0.75769231 0.7707265  0.77635328 0.78190883 0.78746439\n",
      " 0.78561254 0.78753561 0.78938746 0.79309117 0.79878917 0.79878917\n",
      " 0.80249288 0.80804843 0.80619658 0.81182336 0.81189459 0.81189459\n",
      " 0.81374644 0.81189459 0.81566952 0.81566952 0.81381766 0.81381766\n",
      " 0.81574074 0.81574074 0.81574074 0.81574074 0.81574074 0.81574074\n",
      " 0.81759259 0.81759259 0.81759259 0.81759259 0.81759259 0.81759259\n",
      " 0.81759259 0.81759259 0.81759259 0.81759259 0.81759259 0.81759259\n",
      " 0.81759259 0.81759259 0.81759259 0.81759259 0.81759259 0.81759259\n",
      " 0.81759259 0.81759259 0.81759259 0.81759259 0.81759259 0.81759259\n",
      " 0.81759259 0.81759259 0.81759259 0.81759259 0.81759259 0.81759259\n",
      " 0.81759259 0.81759259 0.81759259 0.81759259 0.81759259 0.81759259\n",
      " 0.81759259 0.81759259 0.81759259 0.81759259 0.81759259 0.81759259\n",
      " 0.81759259 0.81759259 0.81759259 0.81759259 0.81759259 0.81759259\n",
      " 0.81759259 0.81759259 0.81759259 0.81759259 0.81759259 0.81759259\n",
      " 0.81759259 0.81759259 0.81759259 0.81759259 0.81759259 0.81759259\n",
      " 0.81759259 0.81759259 0.81759259 0.81759259 0.81759259 0.81759259\n",
      " 0.81759259 0.81759259 0.81759259 0.81759259]\n"
     ]
    }
   ],
   "source": [
    "print(\"\\n Array of means \\n\")\n",
    "clf = GridSearchCV(clf_SVC, param_grid =param_grid_S, cv=20 , scoring='accuracy')\n",
    "clf.fit(X_train, Y_train)\n",
    "means = clf.cv_results_['mean_test_score']\n",
    "stds = clf.cv_results_['std_test_score']\n",
    "print(means)"
   ]
  },
  {
   "cell_type": "code",
   "execution_count": 85,
   "metadata": {},
   "outputs": [
    {
     "name": "stdout",
     "output_type": "stream",
     "text": [
      "\n",
      "Classification report\n",
      "\n",
      "              precision    recall  f1-score   support\n",
      "\n",
      "           0       0.84      0.86      0.85       114\n",
      "           1       0.86      0.85      0.85       117\n",
      "\n",
      "    accuracy                           0.85       231\n",
      "   macro avg       0.85      0.85      0.85       231\n",
      "weighted avg       0.85      0.85      0.85       231\n",
      "\n"
     ]
    }
   ],
   "source": [
    "y_true, y_pred = Y_test, clf.predict(X_test)\n",
    "print( '\\nClassification report\\n' )\n",
    "print(classification_report(y_true, y_pred))"
   ]
  },
  {
   "cell_type": "code",
   "execution_count": null,
   "metadata": {},
   "outputs": [],
   "source": []
  }
 ],
 "metadata": {
  "kernelspec": {
   "display_name": "Python 3",
   "language": "python",
   "name": "python3"
  },
  "language_info": {
   "codemirror_mode": {
    "name": "ipython",
    "version": 3
   },
   "file_extension": ".py",
   "mimetype": "text/x-python",
   "name": "python",
   "nbconvert_exporter": "python",
   "pygments_lexer": "ipython3",
   "version": "3.8.10"
  }
 },
 "nbformat": 4,
 "nbformat_minor": 4
}
