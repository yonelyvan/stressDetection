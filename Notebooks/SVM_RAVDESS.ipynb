{
 "cells": [
  {
   "cell_type": "code",
   "execution_count": 1,
   "metadata": {},
   "outputs": [],
   "source": [
    "import keras\n",
    "from keras.datasets import mnist\n",
    "from keras.utils import to_categorical\n",
    "from tensorflow.keras import Sequential\n",
    "from tensorflow.keras.layers import Conv2D, Flatten, Dense\n",
    "import numpy as np\n",
    "from sklearn.model_selection import train_test_split\n",
    "\n",
    "import librosa \n",
    "from librosa import feature\n",
    "import soundfile\n",
    "import os, glob, pickle\n",
    "import re #split strings\n",
    "\n",
    "from sklearn import preprocessing\n",
    "\n",
    "fn_list_i = [\n",
    " feature.chroma_stft,\n",
    " feature.spectral_centroid,\n",
    " feature.spectral_bandwidth,\n",
    " feature.spectral_rolloff\n",
    "]\n",
    " \n",
    "fn_list_ii = [\n",
    " feature.zero_crossing_rate\n",
    "]\n",
    "#feature.rmse,\n",
    "\n",
    "emotions={\n",
    "    0:'neutral',\n",
    "    1:'calm',\n",
    "    2:'happy',\n",
    "    3:'sad',\n",
    "    4:'angry',\n",
    "    5:'fearful',\n",
    "    6:'disgust',\n",
    "    7:'surprised'\n",
    "}\n",
    "\n",
    "# Not stressed: happy(2), calm(1).\n",
    "# Stressed:     sad(3), fearful(5)\n",
    "stress_emotions = {\n",
    "    1:0,\n",
    "    2:0,\n",
    "    3:1,\n",
    "    5:1\n",
    "}\n",
    "selected_emotions = {1,2,3,5}\n",
    "\n",
    "\n",
    "num_classes = 2 #8"
   ]
  },
  {
   "cell_type": "code",
   "execution_count": 38,
   "metadata": {},
   "outputs": [],
   "source": [
    "#preprocesamiento de corpus\n",
    "def preprocessing_data(filename):\n",
    "    # 1) audio: mono \n",
    "    # 2) frecuencia de muestreo(SR): 16000Hz\n",
    "    data, sr = librosa.load(filename, sr=16000, mono=True)\n",
    "    #3) normalizacion\n",
    "    X_scale = preprocessing.normalize([data])[0]\n",
    "    #plot_data(normalizado, sr)\n",
    "    #TODO: otros: farming, windowing, Voice Activity Detector (VAD), noise reduction,\n",
    "    return [X_scale, sr]\n"
   ]
  },
  {
   "cell_type": "code",
   "execution_count": 39,
   "metadata": {},
   "outputs": [],
   "source": [
    "def TEO(signal):\n",
    "    out = []\n",
    "    for i in range(0, len(signal)):\n",
    "        if i == 0 or i == len(signal) - 1:\n",
    "            out.append(signal[i])\n",
    "        else:\n",
    "            out.append(pow(signal[i], 2) - (signal[i + 1] * signal[i - 1]))\n",
    "    return np.array(out)"
   ]
  },
  {
   "cell_type": "code",
   "execution_count": 40,
   "metadata": {},
   "outputs": [],
   "source": [
    "def extract_feature(file_name, **kwargs):\n",
    "    mfcc = kwargs.get(\"mfcc\")\n",
    "    chroma = kwargs.get(\"chroma\")\n",
    "    mel = kwargs.get(\"mel\")\n",
    "    contrast = kwargs.get(\"contrast\")\n",
    "    tonnetz = kwargs.get(\"tonnetz\")\n",
    "    with soundfile.SoundFile(file_name) as sound_file:\n",
    "        X_file_data = sound_file.read(dtype=\"float32\")\n",
    "        sample_rate = sound_file.samplerate\n",
    "        if chroma or contrast:\n",
    "            stft = np.abs(librosa.stft(X_file_data))\n",
    "        result = np.array([])\n",
    "        if mfcc:\n",
    "            mfccs = np.mean(librosa.feature.mfcc(y=X_file_data, sr=sample_rate, n_mfcc=40).T, axis=0)\n",
    "            result = np.hstack((result, mfccs))#concatena ([1,2][3,4]) => [1,2,3,4]\n",
    "            \n",
    "            mfccs_var = np.var(librosa.feature.mfcc(y=X_file_data, sr=sample_rate, n_mfcc=40).T, axis=0)\n",
    "            result = np.hstack((result, mfccs_var)) \n",
    "            \n",
    "            mfccs_std = np.std(librosa.feature.mfcc(y=X_file_data, sr=sample_rate, n_mfcc=40).T, axis=0)\n",
    "            result = np.hstack((result, mfccs_std)) \n",
    "    \n",
    "        if chroma:\n",
    "            chroma = np.mean(librosa.feature.chroma_stft(S=stft, sr=sample_rate).T,axis=0)\n",
    "            result = np.hstack((result, chroma))\n",
    "        if mel:\n",
    "            mel = np.mean(librosa.feature.melspectrogram(X_file_data, sr=sample_rate).T,axis=0)\n",
    "            result = np.hstack((result, mel))\n",
    "        if contrast:\n",
    "            contrast = np.mean(librosa.feature.spectral_contrast(S=stft, sr=sample_rate).T,axis=0)\n",
    "            result = np.hstack((result, contrast))\n",
    "        if tonnetz:\n",
    "            tonnetz = np.mean(librosa.feature.tonnetz(y=librosa.effects.harmonic(X_file_data), sr=sample_rate).T,axis=0)\n",
    "            result = np.hstack((result, tonnetz))\n",
    "    return result"
   ]
  },
  {
   "cell_type": "code",
   "execution_count": 45,
   "metadata": {},
   "outputs": [],
   "source": [
    "def load_data(test_size=0.2):\n",
    "    x,y=[],[]\n",
    "    for file in glob.glob(\"/media/y/730D-8298/DATASETS/ravdess_test/Actor_*/*.wav\"): #* PC\n",
    "        file_name = os.path.basename(file) #            03-01-01-01-01-01-01.wav\n",
    "        print('Progress:  %s' % (file_name), end='\\r')\n",
    "        file_name_no_type = file_name.split(\".\")[0] #   03-01-01-01-01-01-01\n",
    "        list_emotions = file_name_no_type.split(\"-\") #  ['03', '01', '01', '01', '01', '01', '01']\n",
    "        emotion = int(list_emotions[2])-1 #iniciar contador de emociones desde 0 a 7 (8emociones)\n",
    "        \n",
    "        if emotion in selected_emotions:\n",
    "            emotion = stress_emotions[emotion]\n",
    "           \n",
    "            #signal, sample_rate = preprocessing_data(file)\n",
    "            feature = extract_feature(file, chroma=True, mfcc=True, mel=True, contrast=True, tonnetz=True) #get_feature_vector(signal, sample_rate)#extract_feature(file, mfcc=True) #TODO: add more features\n",
    "            x.append(feature)\n",
    "            y.append(emotion)\n",
    "\n",
    "    return np.array(x), np.array(y)"
   ]
  },
  {
   "cell_type": "code",
   "execution_count": 46,
   "metadata": {},
   "outputs": [
    {
     "name": "stdout",
     "output_type": "stream",
     "text": [
      "Progress:  03-01-08-02-02-02-06.wav\n",
      "\n",
      "X_data: (192, 273) Y_data: (192,)\n"
     ]
    }
   ],
   "source": [
    "min_max_scaler = preprocessing.MinMaxScaler()\n",
    "X_raw,Y_raw = load_data()\n",
    "print(\"\\n\")\n",
    "print(\"X_data:\", X_raw.shape, \"Y_data:\",  Y_raw.shape)"
   ]
  },
  {
   "cell_type": "markdown",
   "metadata": {},
   "source": [
    "### Normalización de datos"
   ]
  },
  {
   "cell_type": "code",
   "execution_count": 57,
   "metadata": {},
   "outputs": [
    {
     "name": "stdout",
     "output_type": "stream",
     "text": [
      "X_data: (192, 273) Y_data: (192,)\n"
     ]
    }
   ],
   "source": [
    "Y = Y_raw #to_categorical(Y_raw, num_classes)\n",
    "X = min_max_scaler.fit_transform(X_raw)\n",
    "print(\"X_data:\", X.shape, \"Y_data:\",  Y.shape)"
   ]
  },
  {
   "cell_type": "markdown",
   "metadata": {},
   "source": [
    "### Reducción de dimensionalidad con PCA"
   ]
  },
  {
   "cell_type": "code",
   "execution_count": 58,
   "metadata": {},
   "outputs": [
    {
     "name": "stdout",
     "output_type": "stream",
     "text": [
      "X_data: (192, 100) Y_data: (192,)\n"
     ]
    }
   ],
   "source": [
    "from sklearn.decomposition import PCA\n",
    "X =  PCA(n_components=100).fit_transform(X)\n",
    "print(\"X_data:\", X.shape, \"Y_data:\",  Y.shape)"
   ]
  },
  {
   "cell_type": "code",
   "execution_count": 59,
   "metadata": {},
   "outputs": [
    {
     "name": "stdout",
     "output_type": "stream",
     "text": [
      "Train: (134, 100) (134,) val & Test: (58, 100) (58,)\n"
     ]
    }
   ],
   "source": [
    "X_train, X_test, Y_train, Y_test = train_test_split(X,Y, test_size=0.3, random_state=80) \n",
    "#X_val, X_test, Y_val, Y_test = train_test_split(X_val_test,Y_val_test, test_size=0.5, random_state=60)\n",
    "#print(\"Train:\", X_train.shape, Y_train.shape, \"Val:\", X_val.shape, Y_val.shape, \"Test:\", X_test.shape, Y_test.shape)\n",
    "print(\"Train:\", X_train.shape, Y_train.shape, \"val & Test:\", X_test.shape, Y_test.shape)"
   ]
  },
  {
   "cell_type": "code",
   "execution_count": 61,
   "metadata": {},
   "outputs": [
    {
     "data": {
      "text/plain": [
       "SVC(C=100.0, gamma='auto', random_state=0, verbose=0)"
      ]
     },
     "execution_count": 61,
     "metadata": {},
     "output_type": "execute_result"
    }
   ],
   "source": [
    "#SVM lineal\n",
    "from sklearn.svm import SVC\n",
    "\n",
    "clf_SVC = SVC(C=100.0, kernel='rbf', degree=3, gamma='auto', coef0=0.0, shrinking=True, \n",
    "          probability=False, tol=0.001, cache_size=200, class_weight=None, \n",
    "          verbose=0, max_iter=-1, decision_function_shape=\"ovr\", random_state = 0)\n",
    "clf_SVC.fit(X_train,Y_train)"
   ]
  },
  {
   "cell_type": "code",
   "execution_count": 65,
   "metadata": {},
   "outputs": [
    {
     "name": "stdout",
     "output_type": "stream",
     "text": [
      "Accuracy of linear SVC on training set: 0.99\n",
      "Accuracy of linear SVC on test set: 0.86\n"
     ]
    }
   ],
   "source": [
    "clf_SVC.fit(X_train,Y_train)\n",
    "print('Accuracy of linear SVC on training set: {:.2f}'.format(clf_SVC.score(X_train, Y_train)))\n",
    "print('Accuracy of linear SVC on test set: {:.2f}'.format(clf_SVC.score(X_test, Y_test)))"
   ]
  },
  {
   "cell_type": "markdown",
   "metadata": {},
   "source": [
    "### Tuning"
   ]
  },
  {
   "cell_type": "code",
   "execution_count": 66,
   "metadata": {},
   "outputs": [
    {
     "name": "stdout",
     "output_type": "stream",
     "text": [
      "the generated array of c values\n",
      "[1.00000000e+00 1.07252413e+00 1.15030800e+00 1.23373308e+00\n",
      " 1.32320850e+00 1.41917304e+00 1.52209732e+00 1.63248610e+00\n",
      " 1.75088073e+00 1.87786182e+00 2.01405211e+00 2.16011948e+00\n",
      " 2.31678026e+00 2.48480272e+00 2.66501086e+00 2.85828845e+00\n",
      " 3.06558332e+00 3.28791207e+00 3.52636502e+00 3.78211156e+00\n",
      " 4.05640590e+00 4.35059319e+00 4.66611616e+00 5.00452215e+00\n",
      " 5.36747075e+00 5.75674188e+00 6.17424455e+00 6.62202624e+00\n",
      " 7.10228290e+00 7.61736977e+00 8.16981285e+00 8.76232139e+00\n",
      " 9.39780109e+00 1.00793684e+01 1.08103658e+01 1.15943781e+01\n",
      " 1.24352503e+01 1.33371059e+01 1.43043679e+01 1.53417796e+01\n",
      " 1.64544288e+01 1.76477719e+01 1.89276611e+01 2.03003732e+01\n",
      " 2.17726400e+01 2.33516817e+01 2.50452420e+01 2.68616263e+01\n",
      " 2.88097423e+01 3.08991436e+01 3.31400770e+01 3.55435321e+01\n",
      " 3.81212958e+01 4.08860094e+01 4.38512315e+01 4.70315038e+01\n",
      " 5.04424225e+01 5.41007151e+01 5.80243221e+01 6.22324854e+01\n",
      " 6.67458420e+01 7.15865259e+01 7.67782761e+01 8.23465535e+01\n",
      " 8.83186653e+01 9.47238993e+01 1.01593667e+02 1.08961659e+02\n",
      " 1.16864008e+02 1.25339468e+02 1.34429604e+02 1.44178993e+02\n",
      " 1.54635449e+02 1.65850250e+02 1.77878394e+02 1.90778869e+02\n",
      " 2.04614940e+02 2.19454460e+02 2.35370203e+02 2.52440221e+02\n",
      " 2.70748227e+02 2.90384006e+02 3.11443852e+02 3.34031045e+02\n",
      " 3.58256355e+02 3.84238584e+02 4.12105151e+02 4.41992717e+02\n",
      " 4.74047853e+02 5.08427759e+02 5.45301038e+02 5.84848519e+02\n",
      " 6.27264147e+02 6.72755931e+02 7.21546967e+02 7.73876530e+02\n",
      " 8.30001249e+02 8.90196364e+02 9.54757077e+02 1.02400000e+03]\n"
     ]
    }
   ],
   "source": [
    "#tuning\n",
    "from sklearn.model_selection import GridSearchCV\n",
    "from sklearn.metrics import classification_report\n",
    "import numpy as np\n",
    "\n",
    "c_SVC = np.logspace(start = 0, stop = 10, num = 100, base = 2 , dtype = 'float64')\n",
    "print( 'the generated array of c values')\n",
    "print ( c_SVC )\n",
    "param_grid_S = {'C': c_SVC}"
   ]
  },
  {
   "cell_type": "code",
   "execution_count": 67,
   "metadata": {},
   "outputs": [
    {
     "name": "stdout",
     "output_type": "stream",
     "text": [
      "\n",
      " Array of means \n",
      "\n",
      "[0.60952381 0.60833333 0.6297619  0.61428571 0.60595238 0.60595238\n",
      " 0.61428571 0.62738095 0.62738095 0.62738095 0.63452381 0.63452381\n",
      " 0.63452381 0.64880952 0.65       0.65       0.65833333 0.68809524\n",
      " 0.68809524 0.70357143 0.70357143 0.71071429 0.71071429 0.72619048\n",
      " 0.72619048 0.73333333 0.74047619 0.74761905 0.76428571 0.78690476\n",
      " 0.78690476 0.80952381 0.81785714 0.825      0.825      0.825\n",
      " 0.825      0.81785714 0.81785714 0.825      0.825      0.84047619\n",
      " 0.84047619 0.84047619 0.83333333 0.83333333 0.84047619 0.84047619\n",
      " 0.84047619 0.84880952 0.84047619 0.84047619 0.84880952 0.84880952\n",
      " 0.83333333 0.81785714 0.81785714 0.80357143 0.81190476 0.82619048\n",
      " 0.82619048 0.83333333 0.84761905 0.84761905 0.84880952 0.85595238\n",
      " 0.84880952 0.85595238 0.85595238 0.8797619  0.8702381  0.87857143\n",
      " 0.87142857 0.87857143 0.87857143 0.8702381  0.8702381  0.8702381\n",
      " 0.8702381  0.84761905 0.84761905 0.83333333 0.83333333 0.82619048\n",
      " 0.82619048 0.82619048 0.82619048 0.82619048 0.82619048 0.82619048\n",
      " 0.82619048 0.82619048 0.82619048 0.82619048 0.82619048 0.82619048\n",
      " 0.82619048 0.82619048 0.82619048 0.82619048]\n"
     ]
    }
   ],
   "source": [
    "print(\"\\n Array of means \\n\")\n",
    "clf = GridSearchCV(clf_SVC, param_grid =param_grid_S, cv=20 , scoring='accuracy')\n",
    "clf.fit(X_train, Y_train)\n",
    "means = clf.cv_results_['mean_test_score']\n",
    "stds = clf.cv_results_['std_test_score']\n",
    "print(means)"
   ]
  },
  {
   "cell_type": "code",
   "execution_count": 68,
   "metadata": {},
   "outputs": [
    {
     "name": "stdout",
     "output_type": "stream",
     "text": [
      "\n",
      "Classification report\n",
      "\n",
      "              precision    recall  f1-score   support\n",
      "\n",
      "           0       0.82      0.88      0.85        26\n",
      "           1       0.90      0.84      0.87        32\n",
      "\n",
      "    accuracy                           0.86        58\n",
      "   macro avg       0.86      0.86      0.86        58\n",
      "weighted avg       0.86      0.86      0.86        58\n",
      "\n"
     ]
    }
   ],
   "source": [
    "y_true, y_pred = Y_test, clf.predict(X_test)\n",
    "print( '\\nClassification report\\n' )\n",
    "print(classification_report(y_true, y_pred))"
   ]
  },
  {
   "cell_type": "code",
   "execution_count": null,
   "metadata": {},
   "outputs": [],
   "source": []
  }
 ],
 "metadata": {
  "kernelspec": {
   "display_name": "Python 3",
   "language": "python",
   "name": "python3"
  },
  "language_info": {
   "codemirror_mode": {
    "name": "ipython",
    "version": 3
   },
   "file_extension": ".py",
   "mimetype": "text/x-python",
   "name": "python",
   "nbconvert_exporter": "python",
   "pygments_lexer": "ipython3",
   "version": "3.8.5"
  }
 },
 "nbformat": 4,
 "nbformat_minor": 4
}
