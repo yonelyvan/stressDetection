{
 "cells": [
  {
   "cell_type": "code",
   "execution_count": 1,
   "metadata": {},
   "outputs": [],
   "source": [
    "import keras\n",
    "from keras.datasets import mnist\n",
    "from keras.utils import to_categorical\n",
    "from tensorflow.keras import Sequential\n",
    "from tensorflow.keras.layers import Conv2D, Flatten, Dense\n",
    "import numpy as np\n",
    "from sklearn.model_selection import train_test_split\n",
    "\n",
    "import librosa \n",
    "from librosa import feature\n",
    "import soundfile\n",
    "import os, glob, pickle\n",
    "import re #split strings\n",
    "\n",
    "from sklearn import preprocessing"
   ]
  },
  {
   "cell_type": "code",
   "execution_count": 2,
   "metadata": {},
   "outputs": [],
   "source": [
    "fn_list_i = [\n",
    " feature.chroma_stft,\n",
    " feature.spectral_centroid,\n",
    " feature.spectral_bandwidth,\n",
    " feature.spectral_rolloff\n",
    "]\n",
    " \n",
    "fn_list_ii = [\n",
    " feature.zero_crossing_rate\n",
    "]\n",
    "#feature.rmse,\n"
   ]
  },
  {
   "cell_type": "code",
   "execution_count": 3,
   "metadata": {},
   "outputs": [],
   "source": [
    "emotions={\n",
    "    0:'neutral',\n",
    "    1:'calm',\n",
    "    2:'happy',\n",
    "    3:'sad',\n",
    "    4:'angry',\n",
    "    5:'fearful',\n",
    "    6:'disgust',\n",
    "    7:'surprised'\n",
    "}"
   ]
  },
  {
   "cell_type": "code",
   "execution_count": 4,
   "metadata": {},
   "outputs": [],
   "source": [
    "# Not stressed: happy(2), calm(1).\n",
    "# Stressed:     sad(3), fearful(5)\n",
    "stress_emotions = {\n",
    "    1:0,\n",
    "    2:0,\n",
    "    3:1,\n",
    "    5:1\n",
    "}\n",
    "selected_emotions = {1,2,3,5}\n",
    "\n",
    "\n",
    "num_classes = 2 #8\n",
    "\n",
    "from sklearn import preprocessing"
   ]
  },
  {
   "cell_type": "code",
   "execution_count": 5,
   "metadata": {},
   "outputs": [],
   "source": [
    "#preprocesamiento de corpus\n",
    "def preprocessing_data(filename):\n",
    "    # 1) audio: mono \n",
    "    # 2) frecuencia de muestreo(SR): 16000Hz\n",
    "    data, sr = librosa.load(filename, sr=16000, mono=True)\n",
    "    #3) normalizacion\n",
    "    X_scale = preprocessing.normalize([data])[0]\n",
    "    #plot_data(normalizado, sr)\n",
    "    #TODO: otros: farming, windowing, Voice Activity Detector (VAD), noise reduction,\n",
    "    return [X_scale, sr]"
   ]
  },
  {
   "cell_type": "code",
   "execution_count": 6,
   "metadata": {},
   "outputs": [],
   "source": [
    "def TEO(signal):\n",
    "    out = []\n",
    "    for i in range(0, len(signal)):\n",
    "        if i == 0 or i == len(signal) - 1:\n",
    "            out.append(signal[i])\n",
    "        else:\n",
    "            out.append(pow(signal[i], 2) - (signal[i + 1] * signal[i - 1]))\n",
    "    return out"
   ]
  },
  {
   "cell_type": "code",
   "execution_count": 7,
   "metadata": {},
   "outputs": [],
   "source": [
    "def get_feature_vector(signal,sample_rate): \n",
    "    feat_vect_i = [ np.mean(funct(signal,sample_rate)) for funct in fn_list_i]\n",
    "    feat_vect_ii = [ np.mean(funct(signal)) for funct in fn_list_ii] \n",
    "    \n",
    "    feature_vector = np.array([])\n",
    "    mfccs = np.mean(librosa.feature.mfcc(y=signal, sr=sample_rate, n_mfcc=40).T, axis=0)\n",
    "    mfccs_vect_iii = np.hstack((feature_vector, mfccs)) \n",
    "\n",
    "    feature_vector_var = np.array([])\n",
    "    mfccs_var = np.var(librosa.feature.mfcc(y=signal, sr=sample_rate, n_mfcc=40).T, axis=0)\n",
    "    mfccs_vect_var = np.hstack((feature_vector_var, mfccs_var)) \n",
    "\n",
    "    feature_vector_std = np.array([])\n",
    "    mfccs_std = np.std(librosa.feature.mfcc(y=signal, sr=sample_rate, n_mfcc=40).T, axis=0)\n",
    "    mfccs_vect_std = np.hstack((feature_vector_std, mfccs_std)) \n",
    "\n",
    "    feature_vector = feat_vect_i + feat_vect_ii + mfccs_vect_iii.tolist() + mfccs_vect_var.tolist() + mfccs_vect_std.tolist()\n",
    "    return feature_vector "
   ]
  },
  {
   "cell_type": "code",
   "execution_count": 8,
   "metadata": {},
   "outputs": [],
   "source": [
    "def load_data(test_size=0.2):\n",
    "    x,y=[],[]\n",
    "    #for file in glob.glob(\"/Users/y/Documents/datasets/RAVDESS/ravdess_test/Actor_*/*.wav\"): #* LAP\n",
    "    for file in glob.glob(\"/media/y/730D-8298/DATASETS/dataFlair/RAVDESS/Actor_*/*.wav\"): #* PC\n",
    "        file_name = os.path.basename(file) #            03-01-01-01-01-01-01.wav\n",
    "        print('Progress:  %s' % (file_name), end='\\r')\n",
    "        file_name_no_type = file_name.split(\".\")[0] #   03-01-01-01-01-01-01\n",
    "        list_emotions = file_name_no_type.split(\"-\") #  ['03', '01', '01', '01', '01', '01', '01']\n",
    "        emotion = int(list_emotions[2])-1 #iniciar contador de emociones desde 0 a 7 (8emociones)\n",
    "        \n",
    "        if emotion in selected_emotions:\n",
    "            emotion = stress_emotions[emotion]\n",
    "           \n",
    "            signal, sample_rate = preprocessing_data(file)\n",
    "            feature = get_feature_vector(signal, sample_rate)#extract_feature(file, mfcc=True) #TODO: add more features\n",
    "            x.append(feature)\n",
    "            y.append(emotion)\n",
    "\n",
    "    return np.array(x), np.array(y)"
   ]
  },
  {
   "cell_type": "code",
   "execution_count": 9,
   "metadata": {},
   "outputs": [
    {
     "name": "stdout",
     "output_type": "stream",
     "text": [
      "Progress:  03-01-08-02-02-02-24.wav\r"
     ]
    }
   ],
   "source": [
    "min_max_scaler = preprocessing.MinMaxScaler()\n",
    "X_raw,Y_raw = load_data()"
   ]
  },
  {
   "cell_type": "code",
   "execution_count": 10,
   "metadata": {},
   "outputs": [
    {
     "name": "stdout",
     "output_type": "stream",
     "text": [
      "X_data: (768, 125) Y_data: (768,)\n",
      "X_data: (768, 125) Y_data: (768, 2)\n"
     ]
    }
   ],
   "source": [
    "print(\"X_data:\", X_raw.shape, \"Y_data:\",  Y_raw.shape)\n",
    "\n",
    "Y = to_categorical(Y_raw, num_classes)\n",
    "X = min_max_scaler.fit_transform(X_raw)\n",
    "print(\"X_data:\", X.shape, \"Y_data:\",  Y.shape)"
   ]
  },
  {
   "cell_type": "code",
   "execution_count": 11,
   "metadata": {},
   "outputs": [
    {
     "name": "stdout",
     "output_type": "stream",
     "text": [
      "Train: (537, 125) (537, 2) Val: (115, 125) (115, 2) Test: (116, 125) (116, 2)\n"
     ]
    }
   ],
   "source": [
    "X_train, X_val_test, Y_train, Y_val_test = train_test_split(X,Y, test_size=0.3, random_state=30) \n",
    "X_val, X_test, Y_val, Y_test = train_test_split(X_val_test,Y_val_test, test_size=0.5, random_state=20)\n",
    "print(\"Train:\", X_train.shape, Y_train.shape, \"Val:\", X_val.shape, Y_val.shape, \"Test:\", X_test.shape, Y_test.shape)\n"
   ]
  },
  {
   "cell_type": "code",
   "execution_count": 14,
   "metadata": {},
   "outputs": [],
   "source": [
    "# Modelo\n",
    "model = Sequential()\n",
    "model.add(Dense(350, input_shape=(X_train.shape[1],), activation='relu'))\n",
    "model.add(Dense(40, activation='relu'))\n",
    "model.add(Dense(num_classes, activation='softmax'))\n"
   ]
  },
  {
   "cell_type": "code",
   "execution_count": 15,
   "metadata": {},
   "outputs": [
    {
     "name": "stdout",
     "output_type": "stream",
     "text": [
      "Epoch 1/100\n",
      "9/9 [==============================] - 0s 26ms/step - loss: 0.6948 - accuracy: 0.5233 - val_loss: 0.6743 - val_accuracy: 0.6087\n",
      "Epoch 2/100\n",
      "9/9 [==============================] - 0s 10ms/step - loss: 0.6710 - accuracy: 0.6015 - val_loss: 0.6837 - val_accuracy: 0.5391\n",
      "Epoch 3/100\n",
      "9/9 [==============================] - 0s 10ms/step - loss: 0.6736 - accuracy: 0.5456 - val_loss: 0.6579 - val_accuracy: 0.6087\n",
      "Epoch 4/100\n",
      "9/9 [==============================] - 0s 10ms/step - loss: 0.6451 - accuracy: 0.6387 - val_loss: 0.6453 - val_accuracy: 0.5913\n",
      "Epoch 5/100\n",
      "9/9 [==============================] - 0s 10ms/step - loss: 0.6321 - accuracy: 0.6536 - val_loss: 0.6384 - val_accuracy: 0.6261\n",
      "Epoch 6/100\n",
      "9/9 [==============================] - 0s 11ms/step - loss: 0.6199 - accuracy: 0.6816 - val_loss: 0.6241 - val_accuracy: 0.6261\n",
      "Epoch 7/100\n",
      "9/9 [==============================] - 0s 9ms/step - loss: 0.6063 - accuracy: 0.6983 - val_loss: 0.6077 - val_accuracy: 0.6696\n",
      "Epoch 8/100\n",
      "9/9 [==============================] - 0s 9ms/step - loss: 0.6005 - accuracy: 0.6723 - val_loss: 0.6069 - val_accuracy: 0.6522\n",
      "Epoch 9/100\n",
      "9/9 [==============================] - 0s 7ms/step - loss: 0.5812 - accuracy: 0.7132 - val_loss: 0.5877 - val_accuracy: 0.6957\n",
      "Epoch 10/100\n",
      "9/9 [==============================] - 0s 7ms/step - loss: 0.5679 - accuracy: 0.7523 - val_loss: 0.5775 - val_accuracy: 0.7043\n",
      "Epoch 11/100\n",
      "9/9 [==============================] - 0s 9ms/step - loss: 0.5500 - accuracy: 0.7412 - val_loss: 0.5694 - val_accuracy: 0.6957\n",
      "Epoch 12/100\n",
      "9/9 [==============================] - 0s 10ms/step - loss: 0.5344 - accuracy: 0.7616 - val_loss: 0.5637 - val_accuracy: 0.7478\n",
      "Epoch 13/100\n",
      "9/9 [==============================] - 0s 10ms/step - loss: 0.5295 - accuracy: 0.7523 - val_loss: 0.5651 - val_accuracy: 0.7043\n",
      "Epoch 14/100\n",
      "9/9 [==============================] - 0s 11ms/step - loss: 0.5119 - accuracy: 0.7598 - val_loss: 0.5873 - val_accuracy: 0.6435\n",
      "Epoch 15/100\n",
      "9/9 [==============================] - 0s 13ms/step - loss: 0.5435 - accuracy: 0.7095 - val_loss: 0.6120 - val_accuracy: 0.6609\n",
      "Epoch 16/100\n",
      "9/9 [==============================] - 0s 14ms/step - loss: 0.5066 - accuracy: 0.7784 - val_loss: 0.5485 - val_accuracy: 0.7217\n",
      "Epoch 17/100\n",
      "9/9 [==============================] - 0s 9ms/step - loss: 0.4795 - accuracy: 0.7784 - val_loss: 0.5338 - val_accuracy: 0.7478\n",
      "Epoch 18/100\n",
      "9/9 [==============================] - 0s 11ms/step - loss: 0.4644 - accuracy: 0.7952 - val_loss: 0.5352 - val_accuracy: 0.7391\n",
      "Epoch 19/100\n",
      "9/9 [==============================] - 0s 16ms/step - loss: 0.4530 - accuracy: 0.8156 - val_loss: 0.5837 - val_accuracy: 0.6522\n",
      "Epoch 20/100\n",
      "9/9 [==============================] - 0s 10ms/step - loss: 0.5134 - accuracy: 0.7263 - val_loss: 0.5315 - val_accuracy: 0.7391\n",
      "Epoch 21/100\n",
      "9/9 [==============================] - 0s 11ms/step - loss: 0.4456 - accuracy: 0.7914 - val_loss: 0.5105 - val_accuracy: 0.7739\n",
      "Epoch 22/100\n",
      "9/9 [==============================] - 0s 7ms/step - loss: 0.4108 - accuracy: 0.8399 - val_loss: 0.5091 - val_accuracy: 0.7565\n",
      "Epoch 23/100\n",
      "9/9 [==============================] - 0s 16ms/step - loss: 0.4107 - accuracy: 0.8380 - val_loss: 0.5026 - val_accuracy: 0.7826\n",
      "Epoch 24/100\n",
      "9/9 [==============================] - 0s 15ms/step - loss: 0.3863 - accuracy: 0.8641 - val_loss: 0.5241 - val_accuracy: 0.7565\n",
      "Epoch 25/100\n",
      "9/9 [==============================] - 0s 11ms/step - loss: 0.3980 - accuracy: 0.8287 - val_loss: 0.5129 - val_accuracy: 0.7565\n",
      "Epoch 26/100\n",
      "9/9 [==============================] - 0s 9ms/step - loss: 0.3713 - accuracy: 0.8752 - val_loss: 0.4923 - val_accuracy: 0.7565\n",
      "Epoch 27/100\n",
      "9/9 [==============================] - 0s 15ms/step - loss: 0.3418 - accuracy: 0.8901 - val_loss: 0.4920 - val_accuracy: 0.7913\n",
      "Epoch 28/100\n",
      "9/9 [==============================] - 0s 10ms/step - loss: 0.3315 - accuracy: 0.8827 - val_loss: 0.5171 - val_accuracy: 0.7652\n",
      "Epoch 29/100\n",
      "9/9 [==============================] - 0s 9ms/step - loss: 0.3395 - accuracy: 0.8715 - val_loss: 0.4835 - val_accuracy: 0.8087\n",
      "Epoch 30/100\n",
      "9/9 [==============================] - 0s 8ms/step - loss: 0.3618 - accuracy: 0.8343 - val_loss: 0.5172 - val_accuracy: 0.7565\n",
      "Epoch 31/100\n",
      "9/9 [==============================] - 0s 9ms/step - loss: 0.3257 - accuracy: 0.8566 - val_loss: 0.6076 - val_accuracy: 0.6783\n",
      "Epoch 32/100\n",
      "9/9 [==============================] - 0s 10ms/step - loss: 0.3831 - accuracy: 0.8212 - val_loss: 0.4984 - val_accuracy: 0.7565\n",
      "Epoch 33/100\n",
      "9/9 [==============================] - 0s 9ms/step - loss: 0.3318 - accuracy: 0.8492 - val_loss: 0.5069 - val_accuracy: 0.7739\n",
      "Epoch 34/100\n",
      "9/9 [==============================] - 0s 9ms/step - loss: 0.3237 - accuracy: 0.8715 - val_loss: 0.5993 - val_accuracy: 0.6783\n",
      "Epoch 35/100\n",
      "9/9 [==============================] - 0s 11ms/step - loss: 0.3629 - accuracy: 0.8305 - val_loss: 0.5245 - val_accuracy: 0.7565\n",
      "Epoch 36/100\n",
      "9/9 [==============================] - 0s 9ms/step - loss: 0.2841 - accuracy: 0.8808 - val_loss: 0.4970 - val_accuracy: 0.7739\n",
      "Epoch 37/100\n",
      "9/9 [==============================] - 0s 10ms/step - loss: 0.2726 - accuracy: 0.8957 - val_loss: 0.4701 - val_accuracy: 0.8000\n",
      "Epoch 38/100\n",
      "9/9 [==============================] - 0s 10ms/step - loss: 0.2481 - accuracy: 0.9181 - val_loss: 0.4946 - val_accuracy: 0.7739\n",
      "Epoch 39/100\n",
      "9/9 [==============================] - 0s 9ms/step - loss: 0.2402 - accuracy: 0.9292 - val_loss: 0.4844 - val_accuracy: 0.8087\n",
      "Epoch 40/100\n",
      "9/9 [==============================] - 0s 10ms/step - loss: 0.2285 - accuracy: 0.9236 - val_loss: 0.4719 - val_accuracy: 0.8087\n",
      "Epoch 41/100\n",
      "9/9 [==============================] - 0s 14ms/step - loss: 0.2104 - accuracy: 0.9385 - val_loss: 0.4759 - val_accuracy: 0.8261\n",
      "Epoch 42/100\n",
      "9/9 [==============================] - 0s 11ms/step - loss: 0.2072 - accuracy: 0.9423 - val_loss: 0.4955 - val_accuracy: 0.8000\n",
      "Epoch 43/100\n",
      "9/9 [==============================] - 0s 8ms/step - loss: 0.1937 - accuracy: 0.9479 - val_loss: 0.4641 - val_accuracy: 0.8261\n",
      "Epoch 44/100\n",
      "9/9 [==============================] - 0s 8ms/step - loss: 0.1873 - accuracy: 0.9479 - val_loss: 0.4721 - val_accuracy: 0.8087\n",
      "Epoch 45/100\n",
      "9/9 [==============================] - 0s 10ms/step - loss: 0.1925 - accuracy: 0.9460 - val_loss: 0.5562 - val_accuracy: 0.7478\n",
      "Epoch 46/100\n",
      "9/9 [==============================] - 0s 9ms/step - loss: 0.1744 - accuracy: 0.9441 - val_loss: 0.5773 - val_accuracy: 0.7652\n",
      "Epoch 47/100\n",
      "9/9 [==============================] - 0s 8ms/step - loss: 0.2018 - accuracy: 0.9274 - val_loss: 0.5007 - val_accuracy: 0.8087\n",
      "Epoch 48/100\n",
      "9/9 [==============================] - 0s 8ms/step - loss: 0.1618 - accuracy: 0.9572 - val_loss: 0.4831 - val_accuracy: 0.8348\n",
      "Epoch 49/100\n",
      "9/9 [==============================] - 0s 8ms/step - loss: 0.1550 - accuracy: 0.9553 - val_loss: 0.4835 - val_accuracy: 0.8000\n",
      "Epoch 50/100\n",
      "9/9 [==============================] - 0s 7ms/step - loss: 0.1403 - accuracy: 0.9683 - val_loss: 0.4912 - val_accuracy: 0.8174\n",
      "Epoch 51/100\n",
      "9/9 [==============================] - 0s 11ms/step - loss: 0.1304 - accuracy: 0.9702 - val_loss: 0.5094 - val_accuracy: 0.8348\n",
      "Epoch 52/100\n",
      "9/9 [==============================] - 0s 11ms/step - loss: 0.1246 - accuracy: 0.9702 - val_loss: 0.4805 - val_accuracy: 0.8087\n",
      "Epoch 53/100\n",
      "9/9 [==============================] - 0s 9ms/step - loss: 0.1263 - accuracy: 0.9739 - val_loss: 0.4894 - val_accuracy: 0.8348\n",
      "Epoch 54/100\n",
      "9/9 [==============================] - 0s 9ms/step - loss: 0.1114 - accuracy: 0.9795 - val_loss: 0.5237 - val_accuracy: 0.8174\n",
      "Epoch 55/100\n",
      "9/9 [==============================] - 0s 9ms/step - loss: 0.1089 - accuracy: 0.9758 - val_loss: 0.4872 - val_accuracy: 0.8087\n",
      "Epoch 56/100\n",
      "9/9 [==============================] - 0s 10ms/step - loss: 0.1103 - accuracy: 0.9777 - val_loss: 0.5003 - val_accuracy: 0.8000\n",
      "Epoch 57/100\n",
      "9/9 [==============================] - 0s 12ms/step - loss: 0.1250 - accuracy: 0.9721 - val_loss: 0.5372 - val_accuracy: 0.7913\n",
      "Epoch 58/100\n",
      "9/9 [==============================] - 0s 10ms/step - loss: 0.0986 - accuracy: 0.9851 - val_loss: 0.5520 - val_accuracy: 0.8261\n",
      "Epoch 59/100\n",
      "9/9 [==============================] - 0s 9ms/step - loss: 0.0864 - accuracy: 0.9907 - val_loss: 0.5227 - val_accuracy: 0.8435\n",
      "Epoch 60/100\n",
      "9/9 [==============================] - 0s 11ms/step - loss: 0.0800 - accuracy: 0.9944 - val_loss: 0.5164 - val_accuracy: 0.8522\n",
      "Epoch 61/100\n",
      "9/9 [==============================] - 0s 9ms/step - loss: 0.0766 - accuracy: 0.9944 - val_loss: 0.4892 - val_accuracy: 0.8435\n",
      "Epoch 62/100\n",
      "9/9 [==============================] - 0s 11ms/step - loss: 0.0751 - accuracy: 0.9888 - val_loss: 0.5045 - val_accuracy: 0.8000\n",
      "Epoch 63/100\n",
      "9/9 [==============================] - 0s 10ms/step - loss: 0.0742 - accuracy: 0.9944 - val_loss: 0.5090 - val_accuracy: 0.8522\n",
      "Epoch 64/100\n",
      "9/9 [==============================] - 0s 10ms/step - loss: 0.0719 - accuracy: 0.9907 - val_loss: 0.5760 - val_accuracy: 0.8261\n",
      "Epoch 65/100\n",
      "9/9 [==============================] - 0s 10ms/step - loss: 0.0659 - accuracy: 0.9944 - val_loss: 0.5661 - val_accuracy: 0.8261\n",
      "Epoch 66/100\n",
      "9/9 [==============================] - 0s 11ms/step - loss: 0.0602 - accuracy: 0.9963 - val_loss: 0.6393 - val_accuracy: 0.7826\n",
      "Epoch 67/100\n",
      "9/9 [==============================] - 0s 9ms/step - loss: 0.0695 - accuracy: 0.9870 - val_loss: 0.5224 - val_accuracy: 0.7913\n",
      "Epoch 68/100\n",
      "9/9 [==============================] - 0s 9ms/step - loss: 0.0743 - accuracy: 0.9870 - val_loss: 0.5409 - val_accuracy: 0.8087\n",
      "Epoch 69/100\n",
      "9/9 [==============================] - 0s 11ms/step - loss: 0.0532 - accuracy: 0.9981 - val_loss: 0.5433 - val_accuracy: 0.8522\n",
      "Epoch 70/100\n",
      "9/9 [==============================] - 0s 10ms/step - loss: 0.0522 - accuracy: 0.9963 - val_loss: 0.6037 - val_accuracy: 0.8348\n",
      "Epoch 71/100\n",
      "9/9 [==============================] - 0s 9ms/step - loss: 0.0503 - accuracy: 0.9981 - val_loss: 0.5937 - val_accuracy: 0.8261\n",
      "Epoch 72/100\n",
      "9/9 [==============================] - 0s 9ms/step - loss: 0.0500 - accuracy: 0.9926 - val_loss: 0.6018 - val_accuracy: 0.8348\n",
      "Epoch 73/100\n",
      "9/9 [==============================] - 0s 10ms/step - loss: 0.0506 - accuracy: 0.9907 - val_loss: 0.5495 - val_accuracy: 0.8261\n",
      "Epoch 74/100\n",
      "9/9 [==============================] - 0s 11ms/step - loss: 0.0440 - accuracy: 1.0000 - val_loss: 0.5371 - val_accuracy: 0.8000\n",
      "Epoch 75/100\n",
      "9/9 [==============================] - 0s 12ms/step - loss: 0.0464 - accuracy: 0.9907 - val_loss: 0.5156 - val_accuracy: 0.8174\n",
      "Epoch 76/100\n",
      "9/9 [==============================] - 0s 10ms/step - loss: 0.0372 - accuracy: 1.0000 - val_loss: 0.5447 - val_accuracy: 0.8087\n",
      "Epoch 77/100\n",
      "9/9 [==============================] - 0s 12ms/step - loss: 0.0421 - accuracy: 0.9981 - val_loss: 0.5531 - val_accuracy: 0.8435\n",
      "Epoch 78/100\n",
      "9/9 [==============================] - 0s 11ms/step - loss: 0.0310 - accuracy: 1.0000 - val_loss: 0.5601 - val_accuracy: 0.8696\n",
      "Epoch 79/100\n",
      "9/9 [==============================] - 0s 10ms/step - loss: 0.0289 - accuracy: 1.0000 - val_loss: 0.5617 - val_accuracy: 0.8696\n",
      "Epoch 80/100\n",
      "9/9 [==============================] - 0s 12ms/step - loss: 0.0265 - accuracy: 1.0000 - val_loss: 0.5905 - val_accuracy: 0.8435\n",
      "Epoch 81/100\n",
      "9/9 [==============================] - 0s 11ms/step - loss: 0.0270 - accuracy: 0.9981 - val_loss: 0.6292 - val_accuracy: 0.8261\n",
      "Epoch 82/100\n",
      "9/9 [==============================] - 0s 10ms/step - loss: 0.0281 - accuracy: 0.9981 - val_loss: 0.6699 - val_accuracy: 0.8174\n",
      "Epoch 83/100\n",
      "9/9 [==============================] - 0s 11ms/step - loss: 0.0296 - accuracy: 0.9981 - val_loss: 0.7134 - val_accuracy: 0.8087\n",
      "Epoch 84/100\n",
      "9/9 [==============================] - 0s 10ms/step - loss: 0.0287 - accuracy: 0.9981 - val_loss: 0.6853 - val_accuracy: 0.8261\n",
      "Epoch 85/100\n",
      "9/9 [==============================] - 0s 9ms/step - loss: 0.0286 - accuracy: 0.9981 - val_loss: 0.7409 - val_accuracy: 0.8000\n",
      "Epoch 86/100\n",
      "9/9 [==============================] - 0s 9ms/step - loss: 0.0311 - accuracy: 0.9981 - val_loss: 0.7042 - val_accuracy: 0.8087\n",
      "Epoch 87/100\n",
      "9/9 [==============================] - 0s 9ms/step - loss: 0.0326 - accuracy: 1.0000 - val_loss: 0.6651 - val_accuracy: 0.8348\n",
      "Epoch 88/100\n",
      "9/9 [==============================] - 0s 12ms/step - loss: 0.0273 - accuracy: 0.9981 - val_loss: 0.6500 - val_accuracy: 0.8522\n",
      "Epoch 89/100\n",
      "9/9 [==============================] - 0s 11ms/step - loss: 0.0200 - accuracy: 1.0000 - val_loss: 0.6252 - val_accuracy: 0.8522\n",
      "Epoch 90/100\n",
      "9/9 [==============================] - 0s 9ms/step - loss: 0.0180 - accuracy: 1.0000 - val_loss: 0.6277 - val_accuracy: 0.8696\n",
      "Epoch 91/100\n",
      "9/9 [==============================] - 0s 7ms/step - loss: 0.0165 - accuracy: 1.0000 - val_loss: 0.6302 - val_accuracy: 0.8609\n",
      "Epoch 92/100\n",
      "9/9 [==============================] - 0s 10ms/step - loss: 0.0151 - accuracy: 1.0000 - val_loss: 0.6208 - val_accuracy: 0.8609\n",
      "Epoch 93/100\n",
      "9/9 [==============================] - 0s 10ms/step - loss: 0.0154 - accuracy: 1.0000 - val_loss: 0.6048 - val_accuracy: 0.8783\n",
      "Epoch 94/100\n",
      "9/9 [==============================] - 0s 10ms/step - loss: 0.0153 - accuracy: 1.0000 - val_loss: 0.6134 - val_accuracy: 0.8696\n",
      "Epoch 95/100\n",
      "9/9 [==============================] - 0s 12ms/step - loss: 0.0138 - accuracy: 1.0000 - val_loss: 0.6060 - val_accuracy: 0.8348\n",
      "Epoch 96/100\n",
      "9/9 [==============================] - 0s 11ms/step - loss: 0.0156 - accuracy: 1.0000 - val_loss: 0.6024 - val_accuracy: 0.8261\n",
      "Epoch 97/100\n",
      "9/9 [==============================] - 0s 8ms/step - loss: 0.0134 - accuracy: 1.0000 - val_loss: 0.6346 - val_accuracy: 0.8609\n",
      "Epoch 98/100\n",
      "9/9 [==============================] - 0s 10ms/step - loss: 0.0120 - accuracy: 1.0000 - val_loss: 0.6509 - val_accuracy: 0.8609\n",
      "Epoch 99/100\n",
      "9/9 [==============================] - 0s 11ms/step - loss: 0.0109 - accuracy: 1.0000 - val_loss: 0.6517 - val_accuracy: 0.8609\n",
      "Epoch 100/100\n",
      "9/9 [==============================] - 0s 8ms/step - loss: 0.0108 - accuracy: 1.0000 - val_loss: 0.6441 - val_accuracy: 0.8783\n"
     ]
    },
    {
     "data": {
      "text/plain": [
       "<tensorflow.python.keras.callbacks.History at 0x7f5977b973a0>"
      ]
     },
     "execution_count": 15,
     "metadata": {},
     "output_type": "execute_result"
    }
   ],
   "source": [
    "# Entrenamiento y validacion\n",
    "model.compile(loss='categorical_crossentropy', optimizer='adam', metrics=['accuracy'])\n",
    "model.fit(X_train, Y_train, batch_size=64, epochs=100, verbose=1, validation_data=(X_val, Y_val)) #verbose=1\n",
    " "
   ]
  },
  {
   "cell_type": "code",
   "execution_count": 16,
   "metadata": {},
   "outputs": [
    {
     "name": "stdout",
     "output_type": "stream",
     "text": [
      "Exactitud\n",
      "4/4 [==============================] - 0s 6ms/step - loss: 0.4765 - accuracy: 0.8534\n",
      "0.8534482717514038 %\n"
     ]
    }
   ],
   "source": [
    "# Prueba\n",
    "print(\"Exactitud\")\n",
    "print(model.evaluate(X_test,Y_test)[1],\"%\") #[0] perdida, [1] presicion"
   ]
  },
  {
   "cell_type": "code",
   "execution_count": null,
   "metadata": {},
   "outputs": [],
   "source": []
  }
 ],
 "metadata": {
  "kernelspec": {
   "display_name": "Python 3",
   "language": "python",
   "name": "python3"
  },
  "language_info": {
   "codemirror_mode": {
    "name": "ipython",
    "version": 3
   },
   "file_extension": ".py",
   "mimetype": "text/x-python",
   "name": "python",
   "nbconvert_exporter": "python",
   "pygments_lexer": "ipython3",
   "version": "3.6.7"
  }
 },
 "nbformat": 4,
 "nbformat_minor": 4
}
