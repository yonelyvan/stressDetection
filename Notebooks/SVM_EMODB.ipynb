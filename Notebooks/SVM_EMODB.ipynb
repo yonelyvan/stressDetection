{
 "cells": [
  {
   "cell_type": "code",
   "execution_count": 1,
   "metadata": {},
   "outputs": [],
   "source": [
    "import keras\n",
    "from keras.datasets import mnist\n",
    "from keras.utils import to_categorical\n",
    "from tensorflow.keras import Sequential\n",
    "from tensorflow.keras.layers import Conv2D, Flatten, Dense\n",
    "import numpy as np\n",
    "from sklearn.model_selection import train_test_split\n",
    "\n",
    "import librosa \n",
    "from librosa import feature\n",
    "import soundfile\n",
    "import os, glob, pickle\n",
    "import re #split strings\n",
    "\n",
    "from sklearn import preprocessing\n",
    "import warnings\n",
    "warnings.filterwarnings('ignore')\n",
    "\n",
    "\n",
    "emotions={ #german language\n",
    "    'W':'anger',\n",
    "    'L':'boredom',\n",
    "    'E':'disgust',\n",
    "    'A':'anxiety/fear',# *1\n",
    "    'F':'happiness',# *0\n",
    "    'T':'sadness',# *1\n",
    "    'N':'neutral',# *0\n",
    "}\n",
    "\n",
    "# Not stressed: happy(2), calm(1).\n",
    "# Stressed:     sad(3), fearful(5)\n",
    "stress_emotions = {\n",
    "    'F':0,\n",
    "    'N':0,\n",
    "    'A':1,\n",
    "    'T':1\n",
    "}\n",
    "selected_emotions = {'F','N','A','T'}"
   ]
  },
  {
   "cell_type": "code",
   "execution_count": 2,
   "metadata": {},
   "outputs": [],
   "source": [
    "#preprocesamiento de corpus\n",
    "def preprocessing_data(filename):\n",
    "    # 1) audio: mono \n",
    "    # 2) frecuencia de muestreo(SR): 16000Hz\n",
    "    data, sr = librosa.load(filename, sr=16000, mono=True)\n",
    "    #3) normalizacion\n",
    "    X_scale = preprocessing.normalize([data])[0]\n",
    "    #plot_data(normalizado, sr)\n",
    "    #TODO: otros: farming, windowing, Voice Activity Detector (VAD), noise reduction,\n",
    "    return [X_scale, sr]"
   ]
  },
  {
   "cell_type": "code",
   "execution_count": 3,
   "metadata": {},
   "outputs": [],
   "source": [
    "def extract_feature(file_name, **kwargs):\n",
    "    mfcc = kwargs.get(\"mfcc\")\n",
    "    chroma = kwargs.get(\"chroma\")\n",
    "    mel = kwargs.get(\"mel\")\n",
    "    contrast = kwargs.get(\"contrast\")\n",
    "    tonnetz = kwargs.get(\"tonnetz\")\n",
    "    with soundfile.SoundFile(file_name) as sound_file:\n",
    "        X_file_data = sound_file.read(dtype=\"float32\")\n",
    "        sample_rate = sound_file.samplerate\n",
    "        if chroma or contrast:\n",
    "            stft = np.abs(librosa.stft(X_file_data))\n",
    "        result = np.array([])\n",
    "        if mfcc:\n",
    "            mfccs = np.mean(librosa.feature.mfcc(y=X_file_data, sr=sample_rate, n_mfcc=40).T, axis=0)\n",
    "            result = np.hstack((result, mfccs))#concatena ([1,2][3,4]) => [1,2,3,4]\n",
    "            \n",
    "            mfccs_var = np.var(librosa.feature.mfcc(y=X_file_data, sr=sample_rate, n_mfcc=40).T, axis=0)\n",
    "            result = np.hstack((result, mfccs_var)) \n",
    "            \n",
    "            mfccs_std = np.std(librosa.feature.mfcc(y=X_file_data, sr=sample_rate, n_mfcc=40).T, axis=0)\n",
    "            result = np.hstack((result, mfccs_std)) \n",
    "    \n",
    "        if chroma:\n",
    "            chroma = np.mean(librosa.feature.chroma_stft(S=stft, sr=sample_rate).T,axis=0)\n",
    "            result = np.hstack((result, chroma))\n",
    "        if mel:\n",
    "            mel = np.mean(librosa.feature.melspectrogram(X_file_data, sr=sample_rate).T,axis=0)\n",
    "            result = np.hstack((result, mel))\n",
    "        if contrast:\n",
    "            contrast = np.mean(librosa.feature.spectral_contrast(S=stft, sr=sample_rate).T,axis=0)\n",
    "            result = np.hstack((result, contrast))\n",
    "        if tonnetz:\n",
    "            tonnetz = np.mean(librosa.feature.tonnetz(y=librosa.effects.harmonic(X_file_data), sr=sample_rate).T,axis=0)\n",
    "            result = np.hstack((result, tonnetz))\n",
    "    return result"
   ]
  },
  {
   "cell_type": "code",
   "execution_count": 5,
   "metadata": {},
   "outputs": [],
   "source": [
    "def load_data(test_size=0.2):\n",
    "    x,y=[],[]\n",
    "    for file in glob.glob(\"/media/yonel/730D-8298/DATASETS/Emo-DB/wav/*.wav\"):\n",
    "        file_name = os.path.basename(file) #            03-01-01-01-01-01-01.wav\n",
    "        print('File:  %s' % (file_name), end='\\r')\n",
    "        file_name_no_type = file_name.split(\".\")[0] #   03-01-01-01-01-01-01\n",
    "        #list_emotions = file_name_no_type.split(\"-\") #  ['03', '01', '01', '01', '01', '01', '01']\n",
    "        emotion = file_name_no_type[5]\n",
    "        \n",
    "        if emotion in selected_emotions:\n",
    "            e = stress_emotions[emotion]\n",
    "           \n",
    "            #signal, sample_rate = preprocessing_data(file)\n",
    "            feature = extract_feature(file, chroma=True, mfcc=True, mel=True, contrast=True, tonnetz=True) #get_feature_vector(signal, sample_rate)#extract_feature(file, mfcc=True) #TODO: add more features\n",
    "            x.append(feature)\n",
    "            y.append(e)\n",
    "\n",
    "    return np.array(x), np.array(y)"
   ]
  },
  {
   "cell_type": "code",
   "execution_count": 6,
   "metadata": {},
   "outputs": [
    {
     "name": "stdout",
     "output_type": "stream",
     "text": [
      "File:  08a01Fd.wav\n",
      "\n",
      "X_data: (281, 273) Y_data: (281,)\n"
     ]
    }
   ],
   "source": [
    "X_data,Y_data = load_data()\n",
    "print(\"\\n\")\n",
    "print(\"X_data:\", X_data.shape, \"Y_data:\",  Y_data.shape)"
   ]
  },
  {
   "cell_type": "markdown",
   "metadata": {},
   "source": [
    "### Normalización de datos"
   ]
  },
  {
   "cell_type": "code",
   "execution_count": 47,
   "metadata": {},
   "outputs": [
    {
     "name": "stdout",
     "output_type": "stream",
     "text": [
      "X_data: (281, 273) Y_data: (281,)\n"
     ]
    }
   ],
   "source": [
    "min_max_scaler = preprocessing.MinMaxScaler()\n",
    "X = min_max_scaler.fit_transform(X_data)\n",
    "Y = Y_data \n",
    "print(\"X_data:\", X.shape, \"Y_data:\",  Y.shape)"
   ]
  },
  {
   "cell_type": "markdown",
   "metadata": {},
   "source": [
    "### Reducción de dimensionalidad con PCA"
   ]
  },
  {
   "cell_type": "code",
   "execution_count": 50,
   "metadata": {},
   "outputs": [
    {
     "name": "stdout",
     "output_type": "stream",
     "text": [
      "X_data: (281, 250) Y_data: (281,)\n"
     ]
    }
   ],
   "source": [
    "from sklearn.decomposition import PCA\n",
    "X =  PCA(n_components=250).fit_transform(X)\n",
    "print(\"X_data:\", X.shape, \"Y_data:\",  Y.shape)"
   ]
  },
  {
   "cell_type": "code",
   "execution_count": 51,
   "metadata": {},
   "outputs": [
    {
     "name": "stdout",
     "output_type": "stream",
     "text": [
      "No estresados: 150 | Estresados: 131\n"
     ]
    },
    {
     "data": {
      "image/png": "[encoded data removed]",
      "text/plain": [
       "<Figure size 432x288 with 1 Axes>"
      ]
     },
     "metadata": {
      "needs_background": "light"
     },
     "output_type": "display_data"
    }
   ],
   "source": [
    "estresados = Y.sum()\n",
    "no_estresados = Y.shape[0]-estresados\n",
    "print(\"No estresados:\",no_estresados, \"| Estresados:\", estresados)\n",
    "\n",
    "\n",
    "import matplotlib.pyplot as plt\n",
    "\n",
    "data = Y\n",
    "plt.hist(data)\n",
    "plt.title('0: No Estresado | 1: Estresado', fontsize=10)\n",
    "#plt.savefig(\"Estres_NoEstres.png\")\n",
    "plt.show()"
   ]
  },
  {
   "cell_type": "markdown",
   "metadata": {},
   "source": [
    "### división de datos: Entrenamiento, validación y prueba"
   ]
  },
  {
   "cell_type": "code",
   "execution_count": 52,
   "metadata": {},
   "outputs": [
    {
     "name": "stdout",
     "output_type": "stream",
     "text": [
      "Train: (196, 250) (196,) val & Test: (85, 250) (85,)\n"
     ]
    }
   ],
   "source": [
    "X_train, X_test, Y_train, Y_test = train_test_split(X,Y, test_size=0.3, random_state=10) \n",
    "print(\"Train:\", X_train.shape, Y_train.shape, \"val & Test:\", X_test.shape, Y_test.shape)"
   ]
  },
  {
   "cell_type": "code",
   "execution_count": 53,
   "metadata": {},
   "outputs": [
    {
     "data": {
      "text/plain": [
       "SVC(C=100.0, gamma='auto', random_state=0, verbose=0)"
      ]
     },
     "execution_count": 53,
     "metadata": {},
     "output_type": "execute_result"
    }
   ],
   "source": [
    "#SVM lineal\n",
    "from sklearn.svm import SVC\n",
    "\n",
    "clf_SVC = SVC(C=100.0, kernel='rbf', degree=3, gamma='auto', coef0=0.0, shrinking=True, \n",
    "          probability=False, tol=0.001, cache_size=200, class_weight=None, \n",
    "          verbose=0, max_iter=-1, decision_function_shape=\"ovr\", random_state = 0)\n",
    "clf_SVC.fit(X_train,Y_train)"
   ]
  },
  {
   "cell_type": "code",
   "execution_count": 54,
   "metadata": {},
   "outputs": [
    {
     "name": "stdout",
     "output_type": "stream",
     "text": [
      "Accuracy of linear SVC on training set: 0.99\n",
      "Accuracy of linear SVC on test set: 0.91\n"
     ]
    }
   ],
   "source": [
    "clf_SVC.fit(X_train,Y_train)\n",
    "print('Accuracy of linear SVC on training set: {:.2f}'.format(clf_SVC.score(X_train, Y_train)))\n",
    "print('Accuracy of linear SVC on test set: {:.2f}'.format(clf_SVC.score(X_test, Y_test)))"
   ]
  },
  {
   "cell_type": "markdown",
   "metadata": {},
   "source": [
    "### Tuning"
   ]
  },
  {
   "cell_type": "code",
   "execution_count": 55,
   "metadata": {},
   "outputs": [
    {
     "name": "stdout",
     "output_type": "stream",
     "text": [
      "the generated array of c values\n",
      "[1.00000000e+00 1.07252413e+00 1.15030800e+00 1.23373308e+00\n",
      " 1.32320850e+00 1.41917304e+00 1.52209732e+00 1.63248610e+00\n",
      " 1.75088073e+00 1.87786182e+00 2.01405211e+00 2.16011948e+00\n",
      " 2.31678026e+00 2.48480272e+00 2.66501086e+00 2.85828845e+00\n",
      " 3.06558332e+00 3.28791207e+00 3.52636502e+00 3.78211156e+00\n",
      " 4.05640590e+00 4.35059319e+00 4.66611616e+00 5.00452215e+00\n",
      " 5.36747075e+00 5.75674188e+00 6.17424455e+00 6.62202624e+00\n",
      " 7.10228290e+00 7.61736977e+00 8.16981285e+00 8.76232139e+00\n",
      " 9.39780109e+00 1.00793684e+01 1.08103658e+01 1.15943781e+01\n",
      " 1.24352503e+01 1.33371059e+01 1.43043679e+01 1.53417796e+01\n",
      " 1.64544288e+01 1.76477719e+01 1.89276611e+01 2.03003732e+01\n",
      " 2.17726400e+01 2.33516817e+01 2.50452420e+01 2.68616263e+01\n",
      " 2.88097423e+01 3.08991436e+01 3.31400770e+01 3.55435321e+01\n",
      " 3.81212958e+01 4.08860094e+01 4.38512315e+01 4.70315038e+01\n",
      " 5.04424225e+01 5.41007151e+01 5.80243221e+01 6.22324854e+01\n",
      " 6.67458420e+01 7.15865259e+01 7.67782761e+01 8.23465535e+01\n",
      " 8.83186653e+01 9.47238993e+01 1.01593667e+02 1.08961659e+02\n",
      " 1.16864008e+02 1.25339468e+02 1.34429604e+02 1.44178993e+02\n",
      " 1.54635449e+02 1.65850250e+02 1.77878394e+02 1.90778869e+02\n",
      " 2.04614940e+02 2.19454460e+02 2.35370203e+02 2.52440221e+02\n",
      " 2.70748227e+02 2.90384006e+02 3.11443852e+02 3.34031045e+02\n",
      " 3.58256355e+02 3.84238584e+02 4.12105151e+02 4.41992717e+02\n",
      " 4.74047853e+02 5.08427759e+02 5.45301038e+02 5.84848519e+02\n",
      " 6.27264147e+02 6.72755931e+02 7.21546967e+02 7.73876530e+02\n",
      " 8.30001249e+02 8.90196364e+02 9.54757077e+02 1.02400000e+03]\n"
     ]
    }
   ],
   "source": [
    "#tuning\n",
    "from sklearn.model_selection import GridSearchCV\n",
    "from sklearn.metrics import classification_report\n",
    "import numpy as np\n",
    "\n",
    "c_SVC = np.logspace(start = 0, stop = 10, num = 100, base = 2 , dtype = 'float64')\n",
    "print( 'the generated array of c values')\n",
    "print ( c_SVC )\n",
    "param_grid_S = {'C': c_SVC}"
   ]
  },
  {
   "cell_type": "code",
   "execution_count": 56,
   "metadata": {},
   "outputs": [
    {
     "name": "stdout",
     "output_type": "stream",
     "text": [
      "\n",
      " Array of means \n",
      "\n",
      "[0.78611111 0.78611111 0.78111111 0.79611111 0.79611111 0.79611111\n",
      " 0.79611111 0.80111111 0.80111111 0.80111111 0.80111111 0.80111111\n",
      " 0.81111111 0.82111111 0.82111111 0.82111111 0.82111111 0.82611111\n",
      " 0.82555556 0.84666667 0.85722222 0.86222222 0.86222222 0.86222222\n",
      " 0.85722222 0.85722222 0.86277778 0.86277778 0.86277778 0.87777778\n",
      " 0.88333333 0.87777778 0.88222222 0.88222222 0.88722222 0.88722222\n",
      " 0.88722222 0.89222222 0.90277778 0.90277778 0.90777778 0.90777778\n",
      " 0.90777778 0.90777778 0.89777778 0.89777778 0.89777778 0.89777778\n",
      " 0.88777778 0.88277778 0.87777778 0.87777778 0.87833333 0.87833333\n",
      " 0.87277778 0.87277778 0.87833333 0.87833333 0.87833333 0.87833333\n",
      " 0.86722222 0.86722222 0.86222222 0.86222222 0.86222222 0.85722222\n",
      " 0.86222222 0.87277778 0.86777778 0.86222222 0.86722222 0.86722222\n",
      " 0.86722222 0.86722222 0.85722222 0.86722222 0.85722222 0.86222222\n",
      " 0.86777778 0.86777778 0.87277778 0.86777778 0.86277778 0.86277778\n",
      " 0.86277778 0.86277778 0.86277778 0.86277778 0.86277778 0.86277778\n",
      " 0.86277778 0.86277778 0.86277778 0.86277778 0.86277778 0.86277778\n",
      " 0.86277778 0.86277778 0.86277778 0.86277778]\n"
     ]
    }
   ],
   "source": [
    "print(\"\\n Array of means \\n\")\n",
    "clf = GridSearchCV(clf_SVC, param_grid =param_grid_S, cv=20 , scoring='accuracy')\n",
    "clf.fit(X_train, Y_train)\n",
    "means = clf.cv_results_['mean_test_score']\n",
    "stds = clf.cv_results_['std_test_score']\n",
    "print(means)"
   ]
  },
  {
   "cell_type": "code",
   "execution_count": 57,
   "metadata": {},
   "outputs": [
    {
     "name": "stdout",
     "output_type": "stream",
     "text": [
      "\n",
      "Classification report\n",
      "\n",
      "              precision    recall  f1-score   support\n",
      "\n",
      "           0       0.83      0.98      0.90        45\n",
      "           1       0.97      0.78      0.86        40\n",
      "\n",
      "    accuracy                           0.88        85\n",
      "   macro avg       0.90      0.88      0.88        85\n",
      "weighted avg       0.90      0.88      0.88        85\n",
      "\n"
     ]
    }
   ],
   "source": [
    "y_true, y_pred = Y_test, clf.predict(X_test)\n",
    "print( '\\nClassification report\\n' )\n",
    "print(classification_report(y_true, y_pred))"
   ]
  },
  {
   "cell_type": "code",
   "execution_count": null,
   "metadata": {},
   "outputs": [],
   "source": []
  }
 ],
 "metadata": {
  "kernelspec": {
   "display_name": "Python 3",
   "language": "python",
   "name": "python3"
  },
  "language_info": {
   "codemirror_mode": {
    "name": "ipython",
    "version": 3
   },
   "file_extension": ".py",
   "mimetype": "text/x-python",
   "name": "python",
   "nbconvert_exporter": "python",
   "pygments_lexer": "ipython3",
   "version": "3.8.10"
  }
 },
 "nbformat": 4,
 "nbformat_minor": 4
}
