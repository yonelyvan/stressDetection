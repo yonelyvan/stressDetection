{
 "cells": [
  {
   "cell_type": "code",
   "execution_count": 4,
   "metadata": {},
   "outputs": [],
   "source": [
    "import keras\n",
    "from keras.datasets import mnist\n",
    "from keras.utils import to_categorical\n",
    "from tensorflow.keras import Sequential\n",
    "from tensorflow.keras.layers import Conv2D, Flatten, Dense\n",
    "import numpy as np\n",
    "from sklearn.model_selection import train_test_split\n",
    "\n",
    "import librosa \n",
    "from librosa import feature\n",
    "import soundfile\n",
    "import os, glob, pickle\n",
    "import re #split strings\n",
    "\n",
    "from sklearn import preprocessing\n",
    "\n",
    "import warnings\n",
    "warnings.filterwarnings('ignore')\n",
    "\n",
    "\n",
    "emotions={ #german language\n",
    "    'W':'anger',\n",
    "    'L':'boredom',\n",
    "    'E':'disgust',\n",
    "    'A':'anxiety/fear',# *1\n",
    "    'F':'happiness',# *0\n",
    "    'T':'sadness',# *1\n",
    "    'N':'neutral',# *0\n",
    "}\n",
    "\n",
    "# Not stressed: happy(2), calm(1).\n",
    "# Stressed:     sad(3), fearful(5)\n",
    "stress_emotions = {\n",
    "    'F':0,\n",
    "    'N':0,\n",
    "    'A':1,\n",
    "    'T':1\n",
    "}\n",
    "selected_emotions = {'F','N','A','T'}"
   ]
  },
  {
   "cell_type": "code",
   "execution_count": 5,
   "metadata": {},
   "outputs": [],
   "source": [
    "#preprocesamiento de corpus\n",
    "def preprocessing_data(filename):\n",
    "    # 1) audio: mono \n",
    "    # 2) frecuencia de muestreo(SR): 16000Hz\n",
    "    data, sr = librosa.load(filename, sr=16000, mono=True)\n",
    "    #3) normalizacion\n",
    "    X_scale = preprocessing.normalize([data])[0]\n",
    "    #plot_data(normalizado, sr)\n",
    "    #TODO: otros: farming, windowing, Voice Activity Detector (VAD), noise reduction,\n",
    "    return [X_scale, sr]"
   ]
  },
  {
   "cell_type": "code",
   "execution_count": 6,
   "metadata": {},
   "outputs": [],
   "source": [
    "def extract_features(file_name, **kwargs):\n",
    "    mfcc = kwargs.get(\"mfcc\")\n",
    "    chroma = kwargs.get(\"chroma\")\n",
    "    mel = kwargs.get(\"mel\")\n",
    "    contrast = kwargs.get(\"contrast\")\n",
    "    tonnetz = kwargs.get(\"tonnetz\")\n",
    "    with soundfile.SoundFile(file_name) as sound_file:\n",
    "        X_file_data = sound_file.read(dtype=\"float32\")\n",
    "        sample_rate = sound_file.samplerate\n",
    "        if chroma or contrast:\n",
    "            stft = np.abs(librosa.stft(X_file_data))\n",
    "        result = np.array([])\n",
    "        if mfcc:\n",
    "            mfccs = np.mean(librosa.feature.mfcc(y=X_file_data, sr=sample_rate, n_mfcc=60).T, axis=0)\n",
    "            result = np.hstack((result, mfccs))\n",
    "            \n",
    "            mfccs_var = np.var(librosa.feature.mfcc(y=X_file_data, sr=sample_rate, n_mfcc=60).T, axis=0)\n",
    "            result = np.hstack((result, mfccs_var)) \n",
    "            \n",
    "            mfccs_std = np.std(librosa.feature.mfcc(y=X_file_data, sr=sample_rate, n_mfcc=60).T, axis=0)\n",
    "            result = np.hstack((result, mfccs_std)) \n",
    "    \n",
    "        if chroma:\n",
    "            chroma = np.mean(librosa.feature.chroma_stft(S=stft, sr=sample_rate).T,axis=0)\n",
    "            result = np.hstack((result, chroma))\n",
    "        if mel:\n",
    "            mel = np.mean(librosa.feature.melspectrogram(X_file_data, sr=sample_rate).T,axis=0)\n",
    "            result = np.hstack((result, mel))\n",
    "        if contrast:\n",
    "            contrast = np.mean(librosa.feature.spectral_contrast(S=stft, sr=sample_rate).T,axis=0)\n",
    "            result = np.hstack((result, contrast))\n",
    "        if tonnetz:\n",
    "            tonnetz = np.mean(librosa.feature.tonnetz(y=librosa.effects.harmonic(X_file_data), sr=sample_rate).T,axis=0)\n",
    "            result = np.hstack((result, tonnetz))\n",
    "    return result"
   ]
  },
  {
   "cell_type": "code",
   "execution_count": 7,
   "metadata": {},
   "outputs": [],
   "source": [
    "\n",
    "def load_data(test_size=0.2):\n",
    "    x,y=[],[]\n",
    "    for file in glob.glob(\"/media/yonel/730D-8298/DATASETS/Emo-DB/wav/*.wav\"): #* PC\n",
    "        file_name = os.path.basename(file) #            03-01-01-01-01-01-01.wav\n",
    "        print('File:  %s' % (file_name), end='\\r')\n",
    "        file_name_no_type = file_name.split(\".\")[0] #   03-01-01-01-01-01-01\n",
    "        #list_emotions = file_name_no_type.split(\"-\") #  ['03', '01', '01', '01', '01', '01', '01']\n",
    "        emotion = file_name_no_type[5]\n",
    "        \n",
    "        if emotion in selected_emotions:\n",
    "            e = stress_emotions[emotion]\n",
    "        \n",
    "            feature = extract_features(file, chroma=True, mfcc=True, mel=True, contrast=True, tonnetz=True)\n",
    "            x.append(feature)\n",
    "            y.append(e)\n",
    "\n",
    "    return np.array(x), np.array(y)"
   ]
  },
  {
   "cell_type": "code",
   "execution_count": 8,
   "metadata": {},
   "outputs": [
    {
     "name": "stdout",
     "output_type": "stream",
     "text": [
      "File:  08a01Fd.wav\n",
      "\n",
      "X_data: (281, 333) Y_data: (281,)\n"
     ]
    }
   ],
   "source": [
    "X_data,Y_data = load_data()\n",
    "print(\"\\n\")\n",
    "print(\"X_data:\", X_data.shape, \"Y_data:\",  Y_data.shape)"
   ]
  },
  {
   "cell_type": "markdown",
   "metadata": {},
   "source": [
    "### Normalización de datos"
   ]
  },
  {
   "cell_type": "code",
   "execution_count": 9,
   "metadata": {},
   "outputs": [
    {
     "name": "stdout",
     "output_type": "stream",
     "text": [
      "X_data: (281, 333) Y_data: (281,)\n"
     ]
    }
   ],
   "source": [
    "min_max_scaler = preprocessing.MinMaxScaler()\n",
    "X = min_max_scaler.fit_transform(X_data)\n",
    "Y = Y_data \n",
    "print(\"X_data:\", X.shape, \"Y_data:\",  Y.shape)"
   ]
  },
  {
   "cell_type": "markdown",
   "metadata": {},
   "source": [
    "### Reducción de dimensionalidad con PCA"
   ]
  },
  {
   "cell_type": "code",
   "execution_count": 12,
   "metadata": {},
   "outputs": [
    {
     "name": "stdout",
     "output_type": "stream",
     "text": [
      "X_data: (281, 250) Y_data: (281,)\n"
     ]
    }
   ],
   "source": [
    "from sklearn.decomposition import PCA\n",
    "X =  PCA(n_components=250).fit_transform(X)\n",
    "print(\"X_data:\", X.shape, \"Y_data:\",  Y.shape)"
   ]
  },
  {
   "cell_type": "code",
   "execution_count": 79,
   "metadata": {},
   "outputs": [
    {
     "name": "stdout",
     "output_type": "stream",
     "text": [
      "No estresados: 150 | Estresados: 131\n"
     ]
    },
    {
     "data": {
      "image/png": "[encoded data removed]",
      "text/plain": [
       "<Figure size 432x288 with 1 Axes>"
      ]
     },
     "metadata": {
      "needs_background": "light"
     },
     "output_type": "display_data"
    }
   ],
   "source": [
    "estresados = Y.sum()\n",
    "no_estresados = Y.shape[0]-estresados\n",
    "print(\"No estresados:\",no_estresados, \"| Estresados:\", estresados)\n",
    "\n",
    "\n",
    "import matplotlib.pyplot as plt\n",
    "\n",
    "data = Y\n",
    "plt.hist(data)\n",
    "plt.title('0: No Estresado | 1: Estresado', fontsize=10)\n",
    "#plt.savefig(\"Estres_NoEstres.png\")\n",
    "plt.show()"
   ]
  },
  {
   "cell_type": "markdown",
   "metadata": {},
   "source": [
    "### división de datos: Entrenamiento, validación y prueba"
   ]
  },
  {
   "cell_type": "code",
   "execution_count": 80,
   "metadata": {},
   "outputs": [
    {
     "name": "stdout",
     "output_type": "stream",
     "text": [
      "Entrenamiento: (196, 250) (196,) Prueba: (85, 250) (85,)\n"
     ]
    }
   ],
   "source": [
    "X_train, X_test, Y_train, Y_test = train_test_split(X,Y, test_size=0.3, random_state=10) \n",
    "print(\"Entrenamiento:\", X_train.shape, Y_train.shape, \"Prueba:\", X_test.shape, Y_test.shape)"
   ]
  },
  {
   "cell_type": "code",
   "execution_count": 81,
   "metadata": {},
   "outputs": [],
   "source": [
    "from keras import metrics\n",
    "import math\n",
    "\n",
    "model = Sequential([ \n",
    "    Dense(350, activation=\"relu\", input_shape=(X_train.shape[1],)),\n",
    "    Dense(40, activation='relu'),\n",
    "    Dense(2, activation=\"softmax\")\n",
    "])\n",
    "\n",
    "\n",
    "initial_learning_rate = 0.01\n",
    "\n",
    "def lr_exp_decay(epoch, lr):\n",
    "    k = 0.05\n",
    "    return initial_learning_rate * math.exp(-k*epoch)\n",
    "\n",
    "\n",
    "opt = keras.optimizers.RMSprop(learning_rate=initial_learning_rate)\n",
    "\n",
    "\n",
    "mts = keras.metrics.SparseCategoricalAccuracy(name=\"acc\")\n",
    "model.compile(optimizer = opt, loss=\"sparse_categorical_crossentropy\", metrics= [mts])"
   ]
  },
  {
   "cell_type": "code",
   "execution_count": 82,
   "metadata": {},
   "outputs": [
    {
     "name": "stdout",
     "output_type": "stream",
     "text": [
      "Epoch 1/50\n",
      "\n",
      "Epoch 00001: LearningRateScheduler reducing learning rate to 0.01.\n",
      "10/10 [==============================] - 0s 5ms/step - loss: 0.6614 - acc: 0.6533\n",
      "Epoch 2/50\n",
      "\n",
      "Epoch 00002: LearningRateScheduler reducing learning rate to 0.00951229424500714.\n",
      "10/10 [==============================] - 0s 7ms/step - loss: 0.1261 - acc: 0.9622\n",
      "Epoch 3/50\n",
      "\n",
      "Epoch 00003: LearningRateScheduler reducing learning rate to 0.009048374180359595.\n",
      "10/10 [==============================] - 0s 6ms/step - loss: 0.0092 - acc: 1.0000\n",
      "Epoch 4/50\n",
      "\n",
      "Epoch 00004: LearningRateScheduler reducing learning rate to 0.008607079764250578.\n",
      "10/10 [==============================] - 0s 6ms/step - loss: 0.0033 - acc: 1.0000\n",
      "Epoch 5/50\n",
      "\n",
      "Epoch 00005: LearningRateScheduler reducing learning rate to 0.008187307530779819.\n",
      "10/10 [==============================] - 0s 6ms/step - loss: 6.7044e-04 - acc: 1.0000\n",
      "Epoch 6/50\n",
      "\n",
      "Epoch 00006: LearningRateScheduler reducing learning rate to 0.007788007830714049.\n",
      "10/10 [==============================] - 0s 6ms/step - loss: 3.4547e-04 - acc: 1.0000\n",
      "Epoch 7/50\n",
      "\n",
      "Epoch 00007: LearningRateScheduler reducing learning rate to 0.007408182206817179.\n",
      "10/10 [==============================] - 0s 7ms/step - loss: 1.8606e-04 - acc: 1.0000\n",
      "Epoch 8/50\n",
      "\n",
      "Epoch 00008: LearningRateScheduler reducing learning rate to 0.007046880897187135.\n",
      "10/10 [==============================] - 0s 7ms/step - loss: 1.1276e-04 - acc: 1.0000\n",
      "Epoch 9/50\n",
      "\n",
      "Epoch 00009: LearningRateScheduler reducing learning rate to 0.006703200460356393.\n",
      "10/10 [==============================] - 0s 7ms/step - loss: 5.1776e-05 - acc: 1.0000\n",
      "Epoch 10/50\n",
      "\n",
      "Epoch 00010: LearningRateScheduler reducing learning rate to 0.006376281516217734.\n",
      "10/10 [==============================] - 0s 6ms/step - loss: 2.4179e-05 - acc: 1.0000\n",
      "Epoch 11/50\n",
      "\n",
      "Epoch 00011: LearningRateScheduler reducing learning rate to 0.006065306597126334.\n",
      "10/10 [==============================] - 0s 7ms/step - loss: 1.7205e-05 - acc: 1.0000\n",
      "Epoch 12/50\n",
      "\n",
      "Epoch 00012: LearningRateScheduler reducing learning rate to 0.005769498103804866.\n",
      "10/10 [==============================] - 0s 7ms/step - loss: 8.1385e-06 - acc: 1.0000\n",
      "Epoch 13/50\n",
      "\n",
      "Epoch 00013: LearningRateScheduler reducing learning rate to 0.005488116360940264.\n",
      "10/10 [==============================] - 0s 7ms/step - loss: 6.0547e-06 - acc: 1.0000\n",
      "Epoch 14/50\n",
      "\n",
      "Epoch 00014: LearningRateScheduler reducing learning rate to 0.005220457767610161.\n",
      "10/10 [==============================] - 0s 6ms/step - loss: 3.0748e-06 - acc: 1.0000\n",
      "Epoch 15/50\n",
      "\n",
      "Epoch 00015: LearningRateScheduler reducing learning rate to 0.004965853037914095.\n",
      "10/10 [==============================] - 0s 7ms/step - loss: 1.9827e-06 - acc: 1.0000\n",
      "Epoch 16/50\n",
      "\n",
      "Epoch 00016: LearningRateScheduler reducing learning rate to 0.004723665527410147.\n",
      "10/10 [==============================] - 0s 6ms/step - loss: 1.0176e-06 - acc: 1.0000\n",
      "Epoch 17/50\n",
      "\n",
      "Epoch 00017: LearningRateScheduler reducing learning rate to 0.004493289641172216.\n",
      "10/10 [==============================] - 0s 6ms/step - loss: 7.6534e-07 - acc: 1.0000\n",
      "Epoch 18/50\n",
      "\n",
      "Epoch 00018: LearningRateScheduler reducing learning rate to 0.004274149319487267.\n",
      "10/10 [==============================] - 0s 6ms/step - loss: 4.0603e-07 - acc: 1.0000\n",
      "Epoch 19/50\n",
      "\n",
      "Epoch 00019: LearningRateScheduler reducing learning rate to 0.004065696597405992.\n",
      "10/10 [==============================] - 0s 7ms/step - loss: 2.7578e-07 - acc: 1.0000\n",
      "Epoch 20/50\n",
      "\n",
      "Epoch 00020: LearningRateScheduler reducing learning rate to 0.003867410234545012.\n",
      "10/10 [==============================] - 0s 6ms/step - loss: 1.3776e-07 - acc: 1.0000\n",
      "Epoch 21/50\n",
      "\n",
      "Epoch 00021: LearningRateScheduler reducing learning rate to 0.0036787944117144234.\n",
      "10/10 [==============================] - 0s 6ms/step - loss: 9.6311e-08 - acc: 1.0000\n",
      "Epoch 22/50\n",
      "\n",
      "Epoch 00022: LearningRateScheduler reducing learning rate to 0.0034993774911115535.\n",
      "10/10 [==============================] - 0s 7ms/step - loss: 6.2188e-08 - acc: 1.0000\n",
      "Epoch 23/50\n",
      "\n",
      "Epoch 00023: LearningRateScheduler reducing learning rate to 0.003328710836980796.\n",
      "10/10 [==============================] - 0s 7ms/step - loss: 3.9448e-08 - acc: 1.0000\n",
      "Epoch 24/50\n",
      "\n",
      "Epoch 00024: LearningRateScheduler reducing learning rate to 0.0031663676937905318.\n",
      "10/10 [==============================] - 0s 7ms/step - loss: 3.8361e-08 - acc: 1.0000\n",
      "Epoch 25/50\n",
      "\n",
      "Epoch 00025: LearningRateScheduler reducing learning rate to 0.0030119421191220205.\n",
      "10/10 [==============================] - 0s 6ms/step - loss: 2.3469e-08 - acc: 1.0000\n",
      "Epoch 26/50\n",
      "\n",
      "Epoch 00026: LearningRateScheduler reducing learning rate to 0.002865047968601901.\n",
      "10/10 [==============================] - 0s 7ms/step - loss: 1.2364e-08 - acc: 1.0000\n",
      "Epoch 27/50\n",
      "\n",
      "Epoch 00027: LearningRateScheduler reducing learning rate to 0.002725317930340126.\n",
      "10/10 [==============================] - 0s 8ms/step - loss: 9.6260e-09 - acc: 1.0000\n",
      "Epoch 28/50\n",
      "\n",
      "Epoch 00028: LearningRateScheduler reducing learning rate to 0.002592402606458915.\n",
      "10/10 [==============================] - 0s 6ms/step - loss: 4.7154e-09 - acc: 1.0000\n",
      "Epoch 29/50\n",
      "\n",
      "Epoch 00029: LearningRateScheduler reducing learning rate to 0.0024659696394160645.\n",
      "10/10 [==============================] - 0s 6ms/step - loss: 5.2316e-09 - acc: 1.0000\n",
      "Epoch 30/50\n",
      "\n",
      "Epoch 00030: LearningRateScheduler reducing learning rate to 0.0023457028809379765.\n",
      "10/10 [==============================] - 0s 5ms/step - loss: 4.2161e-09 - acc: 1.0000\n",
      "Epoch 31/50\n",
      "\n",
      "Epoch 00031: LearningRateScheduler reducing learning rate to 0.0022313016014842983.\n",
      "10/10 [==============================] - 0s 5ms/step - loss: 3.0994e-09 - acc: 1.0000\n",
      "Epoch 32/50\n",
      "\n",
      "Epoch 00032: LearningRateScheduler reducing learning rate to 0.0021224797382674303.\n",
      "10/10 [==============================] - 0s 6ms/step - loss: 1.2271e-09 - acc: 1.0000\n",
      "Epoch 33/50\n",
      "\n",
      "Epoch 00033: LearningRateScheduler reducing learning rate to 0.002018965179946554.\n",
      "10/10 [==============================] - 0s 6ms/step - loss: 4.7705e-10 - acc: 1.0000\n",
      "Epoch 34/50\n",
      "\n",
      "Epoch 00034: LearningRateScheduler reducing learning rate to 0.0019204990862075409.\n",
      "10/10 [==============================] - 0s 5ms/step - loss: 5.1461e-10 - acc: 1.0000\n",
      "Epoch 35/50\n",
      "\n",
      "Epoch 00035: LearningRateScheduler reducing learning rate to 0.001826835240527346.\n",
      "10/10 [==============================] - 0s 6ms/step - loss: 0.0000e+00 - acc: 1.0000\n",
      "Epoch 36/50\n",
      "\n",
      "Epoch 00036: LearningRateScheduler reducing learning rate to 0.0017377394345044514.\n",
      "10/10 [==============================] - 0s 6ms/step - loss: 0.0000e+00 - acc: 1.0000\n",
      "Epoch 37/50\n",
      "\n",
      "Epoch 00037: LearningRateScheduler reducing learning rate to 0.0016529888822158654.\n",
      "10/10 [==============================] - 0s 6ms/step - loss: 0.0000e+00 - acc: 1.0000\n",
      "Epoch 38/50\n",
      "\n",
      "Epoch 00038: LearningRateScheduler reducing learning rate to 0.001572371663136276.\n",
      "10/10 [==============================] - 0s 6ms/step - loss: 0.0000e+00 - acc: 1.0000\n",
      "Epoch 39/50\n",
      "\n",
      "Epoch 00039: LearningRateScheduler reducing learning rate to 0.0014956861922263505.\n",
      "10/10 [==============================] - 0s 6ms/step - loss: 0.0000e+00 - acc: 1.0000\n",
      "Epoch 40/50\n",
      "\n",
      "Epoch 00040: LearningRateScheduler reducing learning rate to 0.0014227407158651354.\n",
      "10/10 [==============================] - 0s 5ms/step - loss: 0.0000e+00 - acc: 1.0000\n",
      "Epoch 41/50\n",
      "\n",
      "Epoch 00041: LearningRateScheduler reducing learning rate to 0.0013533528323661271.\n",
      "10/10 [==============================] - 0s 5ms/step - loss: 0.0000e+00 - acc: 1.0000\n",
      "Epoch 42/50\n",
      "\n",
      "Epoch 00042: LearningRateScheduler reducing learning rate to 0.0012873490358780418.\n",
      "10/10 [==============================] - 0s 6ms/step - loss: 0.0000e+00 - acc: 1.0000\n",
      "Epoch 43/50\n",
      "\n",
      "Epoch 00043: LearningRateScheduler reducing learning rate to 0.001224564282529819.\n",
      "10/10 [==============================] - 0s 6ms/step - loss: 0.0000e+00 - acc: 1.0000\n",
      "Epoch 44/50\n",
      "\n",
      "Epoch 00044: LearningRateScheduler reducing learning rate to 0.0011648415777349697.\n",
      "10/10 [==============================] - 0s 5ms/step - loss: 0.0000e+00 - acc: 1.0000\n",
      "Epoch 45/50\n",
      "\n",
      "Epoch 00045: LearningRateScheduler reducing learning rate to 0.0011080315836233387.\n",
      "10/10 [==============================] - 0s 5ms/step - loss: 0.0000e+00 - acc: 1.0000\n",
      "Epoch 46/50\n",
      "\n",
      "Epoch 00046: LearningRateScheduler reducing learning rate to 0.0010539922456186434.\n"
     ]
    },
    {
     "name": "stdout",
     "output_type": "stream",
     "text": [
      "10/10 [==============================] - 0s 5ms/step - loss: 0.0000e+00 - acc: 1.0000\n",
      "Epoch 47/50\n",
      "\n",
      "Epoch 00047: LearningRateScheduler reducing learning rate to 0.001002588437228037.\n",
      "10/10 [==============================] - 0s 5ms/step - loss: 0.0000e+00 - acc: 1.0000\n",
      "Epoch 48/50\n",
      "\n",
      "Epoch 00048: LearningRateScheduler reducing learning rate to 0.0009536916221554962.\n",
      "10/10 [==============================] - 0s 5ms/step - loss: 0.0000e+00 - acc: 1.0000\n",
      "Epoch 49/50\n",
      "\n",
      "Epoch 00049: LearningRateScheduler reducing learning rate to 0.0009071795328941247.\n",
      "10/10 [==============================] - 0s 5ms/step - loss: 0.0000e+00 - acc: 1.0000\n",
      "Epoch 50/50\n",
      "\n",
      "Epoch 00050: LearningRateScheduler reducing learning rate to 0.0008629358649937049.\n",
      "10/10 [==============================] - 0s 6ms/step - loss: 0.0000e+00 - acc: 1.0000\n"
     ]
    }
   ],
   "source": [
    "from keras.callbacks import LearningRateScheduler\n",
    "\n",
    "history = model.fit(X_train, Y_train, \n",
    "                    batch_size=20, \n",
    "                    epochs=50 , \n",
    "                    callbacks=[LearningRateScheduler(lr_exp_decay, verbose=1)])"
   ]
  },
  {
   "cell_type": "code",
   "execution_count": 83,
   "metadata": {},
   "outputs": [
    {
     "data": {
      "image/png": "[encoded data removed]",
      "text/plain": [
       "<Figure size 432x288 with 1 Axes>"
      ]
     },
     "metadata": {
      "needs_background": "light"
     },
     "output_type": "display_data"
    }
   ],
   "source": [
    "#plot precisión\n",
    "import matplotlib.pyplot as plt\n",
    "plt.plot(history.history['acc'])\n",
    "#plt.plot(history.history['val_accuracy'])\n",
    "plt.title('Model accuracy')\n",
    "plt.ylabel('Accuracy')\n",
    "plt.xlabel('Epoch')\n",
    "plt.legend(['Entrenamiento', 'validacion'], loc='upper left')\n",
    "plt.show()"
   ]
  },
  {
   "cell_type": "code",
   "execution_count": 84,
   "metadata": {},
   "outputs": [
    {
     "data": {
      "image/png": "[encoded data removed]",
      "text/plain": [
       "<Figure size 432x288 with 1 Axes>"
      ]
     },
     "metadata": {
      "needs_background": "light"
     },
     "output_type": "display_data"
    }
   ],
   "source": [
    "#plot perdida\n",
    "plt.plot(history.history['loss']) \n",
    "#plt.plot(history.history['val_loss']) \n",
    "plt.title('Model loss') \n",
    "plt.ylabel('Loss') \n",
    "plt.xlabel('Epoch') \n",
    "plt.legend(['Entrenamiento', 'validacion'], loc='upper left') \n",
    "plt.show()"
   ]
  },
  {
   "cell_type": "markdown",
   "metadata": {},
   "source": [
    "### Exactitud"
   ]
  },
  {
   "cell_type": "code",
   "execution_count": 85,
   "metadata": {},
   "outputs": [
    {
     "name": "stdout",
     "output_type": "stream",
     "text": [
      "WARNING:tensorflow:5 out of the last 13 calls to <function Model.make_predict_function.<locals>.predict_function at 0x7f21205bb790> triggered tf.function retracing. Tracing is expensive and the excessive number of tracings could be due to (1) creating @tf.function repeatedly in a loop, (2) passing tensors with different shapes, (3) passing Python objects instead of tensors. For (1), please define your @tf.function outside of the loop. For (2), @tf.function has experimental_relax_shapes=True option that relaxes argument shapes that can avoid unnecessary retracing. For (3), please refer to https://www.tensorflow.org/guide/function#controlling_retracing and https://www.tensorflow.org/api_docs/python/tf/function for  more details.\n",
      "              precision    recall  f1-score   support\n",
      "\n",
      "           0       0.91      0.93      0.92        45\n",
      "           1       0.92      0.90      0.91        40\n",
      "\n",
      "    accuracy                           0.92        85\n",
      "   macro avg       0.92      0.92      0.92        85\n",
      "weighted avg       0.92      0.92      0.92        85\n",
      "\n"
     ]
    }
   ],
   "source": [
    "from sklearn.metrics import classification_report\n",
    "# precision, recall, score, accuracy\n",
    "# print(model.evaluate(X_test,Y_test)[1]*100,\"%\") #[0] perdida, [1] presicion\n",
    "\n",
    "y_pred = model.predict(X_test)\n",
    "y_pred_bool = np.argmax(y_pred, axis=1)\n",
    "\n",
    "print(classification_report(Y_test, y_pred_bool))"
   ]
  },
  {
   "cell_type": "code",
   "execution_count": 86,
   "metadata": {},
   "outputs": [
    {
     "name": "stdout",
     "output_type": "stream",
     "text": [
      "WARNING:tensorflow:5 out of the last 13 calls to <function Model.make_test_function.<locals>.test_function at 0x7f2120347430> triggered tf.function retracing. Tracing is expensive and the excessive number of tracings could be due to (1) creating @tf.function repeatedly in a loop, (2) passing tensors with different shapes, (3) passing Python objects instead of tensors. For (1), please define your @tf.function outside of the loop. For (2), @tf.function has experimental_relax_shapes=True option that relaxes argument shapes that can avoid unnecessary retracing. For (3), please refer to https://www.tensorflow.org/guide/function#controlling_retracing and https://www.tensorflow.org/api_docs/python/tf/function for  more details.\n",
      "3/3 [==============================] - 0s 3ms/step - loss: 0.2711 - acc: 0.9176\n",
      "91.76470637321472 %\n"
     ]
    }
   ],
   "source": [
    "print(model.evaluate(X_test,Y_test)[1]*100,\"%\") #[0] perdida, [1] presicion"
   ]
  },
  {
   "cell_type": "code",
   "execution_count": null,
   "metadata": {},
   "outputs": [],
   "source": []
  },
  {
   "cell_type": "code",
   "execution_count": null,
   "metadata": {},
   "outputs": [],
   "source": []
  }
 ],
 "metadata": {
  "kernelspec": {
   "display_name": "Python 3",
   "language": "python",
   "name": "python3"
  },
  "language_info": {
   "codemirror_mode": {
    "name": "ipython",
    "version": 3
   },
   "file_extension": ".py",
   "mimetype": "text/x-python",
   "name": "python",
   "nbconvert_exporter": "python",
   "pygments_lexer": "ipython3",
   "version": "3.8.10"
  }
 },
 "nbformat": 4,
 "nbformat_minor": 4
}
